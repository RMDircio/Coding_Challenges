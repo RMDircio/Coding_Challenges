{
 "cells": [
  {
   "cell_type": "markdown",
   "metadata": {},
   "source": [
    "# [Codewars](https://www.codewars.com/kata/5545f109004975ea66000086/train/python)\n",
    "\n",
    "- Refactoring"
   ]
  },
  {
   "cell_type": "markdown",
   "metadata": {},
   "source": [
    "# Is n divisible by x and y?\n",
    "\n",
    "> <br>\n",
    ">\n",
    "> Create a function that checks if a number `n` is divisible by two numbers: <br>\n",
    ">\n",
    "> `x` **AND** `y`. \n",
    ">\n",
    ">All inputs are positive, non-zero digits.\n",
    ">\n",
    "> Examples:\n",
    ">\n",
    "> 1) n =   3, x = 1, y = 3 ===>  `true` because    3 is divisible by 1 and 3<br>\n",
    "> <br>\n",
    "> 2) n =  12, x = 2, y = 6 ===>  `true` because    12 is divisible by 2 and 6<br>\n",
    "><br>\n",
    "> 3) n = 100, x = 5, y = 3 ===>  `false` because   100 is not divisible by 3<br>\n",
    "><br>\n",
    "> 4) n =  12, x = 7, y = 5 ===>  `false` because   12 is neither divisible by 7 nor 5 <br>\n",
    "> <br>\n",
    ">"
   ]
  },
  {
   "cell_type": "code",
   "execution_count": null,
   "metadata": {},
   "outputs": [],
   "source": [
    "# Tests\n",
    "\n",
    "import codewars_test as test\n",
    "from solution import is_divisible\n",
    "\n",
    "@test.describe(\"Sample Tests\")\n",
    "def basic_tests():\n",
    "    @test.it('Basic Test Cases')\n",
    "    def basic_test_cases():\n",
    "        test.assert_equals(is_divisible(3,2,2),False)\n",
    "        test.assert_equals(is_divisible(3,3,4),False)\n",
    "        test.assert_equals(is_divisible(12,3,4),True)\n",
    "        test.assert_equals(is_divisible(8,3,4),False)"
   ]
  },
  {
   "cell_type": "markdown",
   "metadata": {},
   "source": [
    "# My Solution\n",
    "\n",
    "### My Understanding\n",
    "\n",
    "I will be given three numbers. The first one is `n`, I need to check if `n` can be divided by the next two numbers given, `x` and `y`. The result needs to be a boolean - `True` or `False`.<br> I believe I can use Mod % here.<br> If `n` has a remainder of 0 for both `x` and `y`, then it is divisible by `x` and `y` and the result should be `True`.<br>\n",
    "<br>\n",
    "- [x] Create an `if` statement\n",
    "- [x] Add rule for `x` % to equal 0 \n",
    "- [x] Add rule for `y` % to equal 0\n",
    "- [x] Return a Boolean"
   ]
  },
  {
   "cell_type": "code",
   "execution_count": 26,
   "metadata": {},
   "outputs": [],
   "source": [
    "def is_divisible(n,x,y):\n",
    "    \n",
    "    # If statement to check divisibility\n",
    "    ## Check to see if the remainder of each equal zero\n",
    "    if n %x == 0 and n %y == 0:\n",
    "        return True\n",
    "    return False"
   ]
  },
  {
   "cell_type": "code",
   "execution_count": 27,
   "metadata": {},
   "outputs": [
    {
     "data": {
      "text/plain": [
       "False"
      ]
     },
     "execution_count": 27,
     "metadata": {},
     "output_type": "execute_result"
    }
   ],
   "source": [
    "is_divisible(3,2,2)"
   ]
  },
  {
   "cell_type": "code",
   "execution_count": 28,
   "metadata": {},
   "outputs": [
    {
     "data": {
      "text/plain": [
       "False"
      ]
     },
     "execution_count": 28,
     "metadata": {},
     "output_type": "execute_result"
    }
   ],
   "source": [
    "is_divisible(3,3,4)"
   ]
  },
  {
   "cell_type": "code",
   "execution_count": 29,
   "metadata": {},
   "outputs": [
    {
     "data": {
      "text/plain": [
       "True"
      ]
     },
     "execution_count": 29,
     "metadata": {},
     "output_type": "execute_result"
    }
   ],
   "source": [
    "is_divisible(12,3,4)"
   ]
  },
  {
   "cell_type": "code",
   "execution_count": 30,
   "metadata": {},
   "outputs": [
    {
     "data": {
      "text/plain": [
       "False"
      ]
     },
     "execution_count": 30,
     "metadata": {},
     "output_type": "execute_result"
    }
   ],
   "source": [
    "is_divisible(8,3,4)"
   ]
  },
  {
   "cell_type": "markdown",
   "metadata": {},
   "source": [
    "# Other Solutions"
   ]
  },
  {
   "cell_type": "code",
   "execution_count": null,
   "metadata": {},
   "outputs": [],
   "source": [
    "def is_divisible(n,x,y):\n",
    "    return n % x == 0 and n % y == 0"
   ]
  },
  {
   "cell_type": "code",
   "execution_count": null,
   "metadata": {},
   "outputs": [],
   "source": [
    "def is_divisible(n,x,y):\n",
    "    return n % x + n % y == 0 "
   ]
  },
  {
   "cell_type": "code",
   "execution_count": null,
   "metadata": {},
   "outputs": [],
   "source": [
    "is_divisible = lambda n,x,y: not (n%x or n%y)"
   ]
  },
  {
   "cell_type": "code",
   "execution_count": null,
   "metadata": {},
   "outputs": [],
   "source": [
    "def is_divisible(n,x,y):\n",
    "    return (n % x == 0) & (n % y == 0)"
   ]
  }
 ],
 "metadata": {
  "interpreter": {
   "hash": "7d6993cb2f9ce9a59d5d7380609d9cb5192a9dedd2735a011418ad9e827eb538"
  },
  "kernelspec": {
   "display_name": "Python 3.9.7 64-bit",
   "name": "python3"
  },
  "language_info": {
   "codemirror_mode": {
    "name": "ipython",
    "version": 3
   },
   "file_extension": ".py",
   "mimetype": "text/x-python",
   "name": "python",
   "nbconvert_exporter": "python",
   "pygments_lexer": "ipython3",
   "version": "3.9.7"
  },
  "orig_nbformat": 4
 },
 "nbformat": 4,
 "nbformat_minor": 2
}
