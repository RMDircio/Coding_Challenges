{
 "cells": [
  {
   "cell_type": "markdown",
   "metadata": {},
   "source": [
    "# [Codewars](https://www.codewars.com/kata/55685cd7ad70877c23000102/train/python)\n",
    "\n",
    "- Fundamentals\n",
    "- Numbers"
   ]
  },
  {
   "cell_type": "markdown",
   "metadata": {},
   "source": [
    "# Return Negative\n",
    "\n",
    "> <br>\n",
    ">\n",
    "> In this simple assignment you are given a number and have to make it negative. But maybe the number is already negative? <br>\n",
    ">\n",
    ">\n",
    "> **Examples**:\n",
    ">\n",
    "> `make_negative(1);`  # return -1<br>\n",
    "> <br>\n",
    "> `make_negative(-5);` # return -5<br>\n",
    "><br>\n",
    "> `make_negative(0);`  # return 0<br>\n",
    "><br>\n",
    "> **Notes**: <br>\n",
    "> - The number can be negative already, in which case no change is required.\n",
    "Zero (0) is not checked for any specific sign. <br>\n",
    "> <br>\n",
    ">- Negative zeros make no mathematical sense. <br>\n",
    "> <br>\n",
    ">"
   ]
  },
  {
   "cell_type": "code",
   "execution_count": null,
   "metadata": {},
   "outputs": [],
   "source": [
    "# Tests\n",
    "\n",
    "import codewars_test as test\n",
    "from solution import make_negative\n",
    "\n",
    "@test.describe(\"Fixed Tests\")\n",
    "def basic_tests():\n",
    "    @test.it('Basic Test Cases')\n",
    "    def basic_test_cases():\n",
    "        test.assert_equals(make_negative(42),-42)\n",
    "        test.assert_equals(make_negative(-9),-9)\n",
    "        test.assert_equals(make_negative(0),0)"
   ]
  },
  {
   "cell_type": "markdown",
   "metadata": {},
   "source": [
    "# My Solution\n",
    "\n",
    "### My Understanding"
   ]
  },
  {
   "cell_type": "code",
   "execution_count": null,
   "metadata": {},
   "outputs": [],
   "source": [
    "def make_negative( number ):\n",
    "    # ..."
   ]
  },
  {
   "cell_type": "code",
   "execution_count": null,
   "metadata": {},
   "outputs": [],
   "source": [
    "make_negative(42)"
   ]
  },
  {
   "cell_type": "code",
   "execution_count": null,
   "metadata": {},
   "outputs": [],
   "source": [
    "make_negative(-9)"
   ]
  },
  {
   "cell_type": "code",
   "execution_count": null,
   "metadata": {},
   "outputs": [],
   "source": [
    "make_negative(0)"
   ]
  },
  {
   "cell_type": "markdown",
   "metadata": {},
   "source": [
    "# Other Solutions"
   ]
  },
  {
   "cell_type": "code",
   "execution_count": null,
   "metadata": {},
   "outputs": [],
   "source": []
  },
  {
   "cell_type": "code",
   "execution_count": null,
   "metadata": {},
   "outputs": [],
   "source": []
  },
  {
   "cell_type": "code",
   "execution_count": null,
   "metadata": {},
   "outputs": [],
   "source": []
  }
 ],
 "metadata": {
  "interpreter": {
   "hash": "7d6993cb2f9ce9a59d5d7380609d9cb5192a9dedd2735a011418ad9e827eb538"
  },
  "kernelspec": {
   "display_name": "Python 3.9.7 64-bit",
   "name": "python3"
  },
  "language_info": {
   "name": "python",
   "version": "3.9.7"
  },
  "orig_nbformat": 4
 },
 "nbformat": 4,
 "nbformat_minor": 2
}
