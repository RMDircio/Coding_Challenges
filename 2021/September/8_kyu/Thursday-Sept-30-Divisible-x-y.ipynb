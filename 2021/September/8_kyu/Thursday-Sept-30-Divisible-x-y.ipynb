{
 "cells": [
  {
   "cell_type": "markdown",
   "source": [
    "# [Codewars](https://www.codewars.com/kata/5545f109004975ea66000086/train/python)\n",
    "\n",
    "- Refactoring"
   ],
   "metadata": {}
  },
  {
   "cell_type": "markdown",
   "source": [
    "# Is n divisible by x and y?\n",
    "\n",
    "> <br>\n",
    ">\n",
    "> Create a function that checks if a number `n` is divisible by two numbers: <br>\n",
    ">\n",
    "> `x` **AND** `y`. \n",
    ">\n",
    ">All inputs are positive, non-zero digits.\n",
    ">\n",
    "> Examples:\n",
    ">\n",
    "> 1) n =   3, x = 1, y = 3 ===>  `true` because    3 is divisible by 1 and 3<br>\n",
    "> <br>\n",
    "> 2) n =  12, x = 2, y = 6 ===>  `true` because    12 is divisible by 2 and 6<br>\n",
    "><br>\n",
    "> 3) n = 100, x = 5, y = 3 ===>  `false` because   100 is not divisible by 3<br>\n",
    "><br>\n",
    "> 4) n =  12, x = 7, y = 5 ===>  `false` because   12 is neither divisible by 7 nor 5 <br>\n",
    "> <br>\n",
    ">"
   ],
   "metadata": {}
  },
  {
   "cell_type": "code",
   "execution_count": null,
   "source": [
    "# Tests\n",
    "\n",
    "import codewars_test as test\n",
    "from solution import is_divisible\n",
    "\n",
    "@test.describe(\"Sample Tests\")\n",
    "def basic_tests():\n",
    "    @test.it('Basic Test Cases')\n",
    "    def basic_test_cases():\n",
    "        test.assert_equals(is_divisible(3,2,2),False)\n",
    "        test.assert_equals(is_divisible(3,3,4),False)\n",
    "        test.assert_equals(is_divisible(12,3,4),True)\n",
    "        test.assert_equals(is_divisible(8,3,4),False)"
   ],
   "outputs": [],
   "metadata": {}
  },
  {
   "cell_type": "markdown",
   "source": [
    "# My Solution\n",
    "\n",
    "### My Understanding"
   ],
   "metadata": {}
  },
  {
   "cell_type": "code",
   "execution_count": null,
   "source": [
    "def is_divisible(n,x,y):\n",
    "    #your code here"
   ],
   "outputs": [],
   "metadata": {}
  },
  {
   "cell_type": "code",
   "execution_count": null,
   "source": [
    "is_divisible(3,2,2)"
   ],
   "outputs": [],
   "metadata": {}
  },
  {
   "cell_type": "code",
   "execution_count": null,
   "source": [
    "is_divisible(3,3,4)"
   ],
   "outputs": [],
   "metadata": {}
  },
  {
   "cell_type": "code",
   "execution_count": null,
   "source": [
    "is_divisible(12,3,4)"
   ],
   "outputs": [],
   "metadata": {}
  },
  {
   "cell_type": "code",
   "execution_count": null,
   "source": [
    "is_divisible(8,3,4)"
   ],
   "outputs": [],
   "metadata": {}
  },
  {
   "cell_type": "markdown",
   "source": [
    "# Other Solutions"
   ],
   "metadata": {}
  },
  {
   "cell_type": "code",
   "execution_count": null,
   "source": [],
   "outputs": [],
   "metadata": {}
  },
  {
   "cell_type": "code",
   "execution_count": null,
   "source": [],
   "outputs": [],
   "metadata": {}
  },
  {
   "cell_type": "code",
   "execution_count": null,
   "source": [],
   "outputs": [],
   "metadata": {}
  },
  {
   "cell_type": "code",
   "execution_count": null,
   "source": [],
   "outputs": [],
   "metadata": {}
  }
 ],
 "metadata": {
  "orig_nbformat": 4,
  "language_info": {
   "name": "python",
   "version": "3.9.7"
  },
  "kernelspec": {
   "name": "python3",
   "display_name": "Python 3.9.7 64-bit"
  },
  "interpreter": {
   "hash": "7d6993cb2f9ce9a59d5d7380609d9cb5192a9dedd2735a011418ad9e827eb538"
  }
 },
 "nbformat": 4,
 "nbformat_minor": 2
}