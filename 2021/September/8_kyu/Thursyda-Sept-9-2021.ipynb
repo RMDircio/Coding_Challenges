{
 "cells": [
  {
   "cell_type": "markdown",
   "source": [
    "# [Codewars](https://www.codewars.com/kata/5168bb5dfe9a00b126000018)\r\n",
    "\r\n",
    "- Fundamentals\r\n",
    "- Strings"
   ],
   "metadata": {}
  },
  {
   "cell_type": "markdown",
   "source": [
    "## Reversed Strings"
   ],
   "metadata": {}
  },
  {
   "cell_type": "markdown",
   "source": [
    ">Complete the solution so that it reverses the string passed into it.\r\n",
    "\r\n",
    "`'world'  =>  'dlrow'`"
   ],
   "metadata": {}
  },
  {
   "cell_type": "code",
   "execution_count": null,
   "source": [
    "# Tests\n",
    "\n",
    "import codewars_test as test\n",
    "from solution import solution\n",
    "\n",
    "@test.describe(\"Fixed Tests\")\n",
    "def basic_tests():\n",
    "    @test.it('Basic Test Cases')\n",
    "    def basic_test_cases():\n",
    "        test.assert_equals(solution('world'), 'dlrow')\n",
    "        test.assert_equals(solution('hello'), 'olleh')\n",
    "        test.assert_equals(solution(''), '')\n",
    "        test.assert_equals(solution('h'), 'h')"
   ],
   "outputs": [],
   "metadata": {}
  },
  {
   "cell_type": "markdown",
   "source": [
    "# My Solution\r\n",
    "\r\n",
    "## My Understanding"
   ],
   "metadata": {}
  },
  {
   "cell_type": "markdown",
   "source": [],
   "metadata": {}
  }
 ],
 "metadata": {
  "orig_nbformat": 4,
  "language_info": {
   "name": "python",
   "version": "3.9.1",
   "mimetype": "text/x-python",
   "codemirror_mode": {
    "name": "ipython",
    "version": 3
   },
   "pygments_lexer": "ipython3",
   "nbconvert_exporter": "python",
   "file_extension": ".py"
  },
  "kernelspec": {
   "name": "python3",
   "display_name": "Python 3.9.1 64-bit"
  },
  "interpreter": {
   "hash": "ac59ebe37160ed0dfa835113d9b8498d9f09ceb179beaac4002f036b9467c963"
  }
 },
 "nbformat": 4,
 "nbformat_minor": 2
}