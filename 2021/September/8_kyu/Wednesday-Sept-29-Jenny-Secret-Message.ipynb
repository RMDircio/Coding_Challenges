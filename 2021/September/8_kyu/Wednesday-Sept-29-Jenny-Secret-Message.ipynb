{
 "cells": [
  {
   "cell_type": "markdown",
   "source": [
    "# [Codewars](https://www.codewars.com/kata/55225023e1be1ec8bc000390/train/python)\n",
    "\n",
    "- Bugs\n",
    "- Conditional Statements\n",
    "- Control Flow\n",
    "- Basic Language Features"
   ],
   "metadata": {}
  },
  {
   "cell_type": "markdown",
   "source": [
    "# Jenny's Secret Message\n",
    "> <br>\n",
    "> Jenny has written a function that returns a greeting for a user.\n",
    ">\n",
    "> However, she's in love with Johnny, and would like to greet him slightly different.\n",
    ">\n",
    "> She added a special case to her function, but she made a mistake.\n",
    ">\n",
    "> Can you help her?\n",
    ">\n",
    "> <br>"
   ],
   "metadata": {}
  },
  {
   "cell_type": "code",
   "execution_count": null,
   "source": [
    "# Tests\n",
    "\n",
    "test.describe(\"Jenny's greeting function\")\n",
    "test.it(\"should greet some people normally\")\n",
    "test.assert_equals(greet(\"James\"), \"Hello, James!\")\n",
    "test.assert_equals(greet(\"Jane\"), \"Hello, Jane!\")\n",
    "test.assert_equals(greet(\"Jim\"), \"Hello, Jim!\")\n",
    "\n",
    "test.it(\"should greet Johnny a little bit more special\")\n",
    "test.assert_equals(greet(\"Johnny\"), \"Hello, my love!\")"
   ],
   "outputs": [],
   "metadata": {}
  },
  {
   "cell_type": "markdown",
   "source": [
    "# My Solution\n",
    "\n",
    "### My Understanding\n",
    "\n"
   ],
   "metadata": {}
  },
  {
   "cell_type": "code",
   "execution_count": null,
   "source": [
    "def greet(name):\n",
    "    return \"Hello, {name}!\".format(name=name)\n",
    "    if name == \"Johnny\":\n",
    "        return \"Hello, my love!\""
   ],
   "outputs": [],
   "metadata": {}
  },
  {
   "cell_type": "code",
   "execution_count": null,
   "source": [
    "greet(\"James\")"
   ],
   "outputs": [],
   "metadata": {}
  },
  {
   "cell_type": "code",
   "execution_count": null,
   "source": [
    "greet(\"Jane\")"
   ],
   "outputs": [],
   "metadata": {}
  },
  {
   "cell_type": "code",
   "execution_count": null,
   "source": [
    "greet(\"Jim\")"
   ],
   "outputs": [],
   "metadata": {}
  },
  {
   "cell_type": "code",
   "execution_count": null,
   "source": [
    "greet(\"Johnny\")"
   ],
   "outputs": [],
   "metadata": {}
  },
  {
   "cell_type": "markdown",
   "source": [
    "# Other Solutions"
   ],
   "metadata": {}
  },
  {
   "cell_type": "code",
   "execution_count": null,
   "source": [],
   "outputs": [],
   "metadata": {}
  },
  {
   "cell_type": "code",
   "execution_count": null,
   "source": [],
   "outputs": [],
   "metadata": {}
  },
  {
   "cell_type": "code",
   "execution_count": null,
   "source": [],
   "outputs": [],
   "metadata": {}
  }
 ],
 "metadata": {
  "orig_nbformat": 4,
  "language_info": {
   "name": "python",
   "version": "3.9.7"
  },
  "kernelspec": {
   "name": "python3",
   "display_name": "Python 3.9.7 64-bit"
  },
  "interpreter": {
   "hash": "7d6993cb2f9ce9a59d5d7380609d9cb5192a9dedd2735a011418ad9e827eb538"
  }
 },
 "nbformat": 4,
 "nbformat_minor": 2
}