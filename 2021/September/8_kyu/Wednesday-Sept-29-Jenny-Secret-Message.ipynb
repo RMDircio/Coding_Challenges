{
 "cells": [
  {
   "cell_type": "markdown",
   "source": [
    "# [Codewars](https://www.codewars.com/kata/55225023e1be1ec8bc000390/train/python)\n",
    "\n",
    "- Bugs\n",
    "- Conditional Statements\n",
    "- Control Flow\n",
    "- Basic Language Features"
   ],
   "metadata": {}
  },
  {
   "cell_type": "markdown",
   "source": [
    "# Jenny's Secret Message\n",
    "> <br>\n",
    "> Jenny has written a function that returns a greeting for a user.\n",
    ">\n",
    "> However, she's in love with Johnny, and would like to greet him slightly different.\n",
    ">\n",
    "> She added a special case to her function, but she made a mistake.\n",
    ">\n",
    "> Can you help her?\n",
    ">\n",
    "> <br>"
   ],
   "metadata": {}
  },
  {
   "cell_type": "code",
   "execution_count": null,
   "source": [
    "# Tests\n",
    "\n",
    "test.describe(\"Jenny's greeting function\")\n",
    "test.it(\"should greet some people normally\")\n",
    "test.assert_equals(greet(\"James\"), \"Hello, James!\")\n",
    "test.assert_equals(greet(\"Jane\"), \"Hello, Jane!\")\n",
    "test.assert_equals(greet(\"Jim\"), \"Hello, Jim!\")\n",
    "\n",
    "test.it(\"should greet Johnny a little bit more special\")\n",
    "test.assert_equals(greet(\"Johnny\"), \"Hello, my love!\")"
   ],
   "outputs": [],
   "metadata": {}
  },
  {
   "cell_type": "markdown",
   "source": [
    "# My Solution\n",
    "\n",
    "### My Understanding\n",
    "\n",
    "Code get executed top to bottom, even when inside looping functions.<br>\n",
    "How the current code is written, the `if` statement is never executed, since the first line is a `return` statement.\n",
    "\n",
    "In order to make this function work in the way intended, it need to have the `if` statement first, then the `return` statement last.\n",
    "\n",
    "\n"
   ],
   "metadata": {}
  },
  {
   "cell_type": "code",
   "execution_count": 1,
   "source": [
    "def greet(name):\n",
    "    # # First iteration\n",
    "    # return \"Hello, {name}!\".format(name=name)\n",
    "    # if name == \"Johnny\":\n",
    "    #     return \"Hello, my love!\"\n",
    "\n",
    "    # Corrected iteration\n",
    "    if name == 'Johnny':\n",
    "            return 'Hello, my love!'\n",
    "    \n",
    "    return 'Hello, {name}!'.format(name=name)"
   ],
   "outputs": [],
   "metadata": {}
  },
  {
   "cell_type": "code",
   "execution_count": 2,
   "source": [
    "greet(\"James\")"
   ],
   "outputs": [
    {
     "output_type": "execute_result",
     "data": {
      "text/plain": [
       "'Hello, James!'"
      ]
     },
     "metadata": {},
     "execution_count": 2
    }
   ],
   "metadata": {}
  },
  {
   "cell_type": "code",
   "execution_count": 3,
   "source": [
    "greet(\"Jane\")"
   ],
   "outputs": [
    {
     "output_type": "execute_result",
     "data": {
      "text/plain": [
       "'Hello, Jane!'"
      ]
     },
     "metadata": {},
     "execution_count": 3
    }
   ],
   "metadata": {}
  },
  {
   "cell_type": "code",
   "execution_count": 4,
   "source": [
    "greet(\"Jim\")"
   ],
   "outputs": [
    {
     "output_type": "execute_result",
     "data": {
      "text/plain": [
       "'Hello, Jim!'"
      ]
     },
     "metadata": {},
     "execution_count": 4
    }
   ],
   "metadata": {}
  },
  {
   "cell_type": "code",
   "execution_count": 5,
   "source": [
    "greet(\"Johnny\")"
   ],
   "outputs": [
    {
     "output_type": "execute_result",
     "data": {
      "text/plain": [
       "'Hello, my love!'"
      ]
     },
     "metadata": {},
     "execution_count": 5
    }
   ],
   "metadata": {}
  },
  {
   "cell_type": "markdown",
   "source": [
    "# Other Solutions"
   ],
   "metadata": {}
  },
  {
   "cell_type": "code",
   "execution_count": null,
   "source": [],
   "outputs": [],
   "metadata": {}
  },
  {
   "cell_type": "code",
   "execution_count": null,
   "source": [],
   "outputs": [],
   "metadata": {}
  },
  {
   "cell_type": "code",
   "execution_count": null,
   "source": [],
   "outputs": [],
   "metadata": {}
  }
 ],
 "metadata": {
  "orig_nbformat": 4,
  "language_info": {
   "name": "python",
   "version": "3.9.7",
   "mimetype": "text/x-python",
   "codemirror_mode": {
    "name": "ipython",
    "version": 3
   },
   "pygments_lexer": "ipython3",
   "nbconvert_exporter": "python",
   "file_extension": ".py"
  },
  "kernelspec": {
   "name": "python3",
   "display_name": "Python 3.9.7 64-bit"
  },
  "interpreter": {
   "hash": "7d6993cb2f9ce9a59d5d7380609d9cb5192a9dedd2735a011418ad9e827eb538"
  }
 },
 "nbformat": 4,
 "nbformat_minor": 2
}