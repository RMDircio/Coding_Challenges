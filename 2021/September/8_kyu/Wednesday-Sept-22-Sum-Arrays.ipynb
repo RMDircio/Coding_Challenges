{
 "cells": [
  {
   "cell_type": "markdown",
   "source": [
    "# [Codewars](https://www.codewars.com/kata/53dc54212259ed3d4f00071c/train/python)\n",
    "\n",
    "- Fundamentals\n",
    "- Loops\n",
    "- Control Flow\n",
    "- Basic Language Features\n",
    "- Arrays"
   ],
   "metadata": {}
  },
  {
   "cell_type": "markdown",
   "source": [
    "# Sum Arrays\n",
    "\n",
    "> <br>\n",
    "> Write a function that takes an array of numbers and returns the sum of the numbers.\n",
    "> \n",
    "> The numbers can be negative or non-integer. If the array does not contain any numbers then you should return 0.\n",
    "> \n",
    "> <br>\n",
    ">\n",
    ">### Examples\n",
    ">Input: `[1, 5.2, 4, 0, -1]` <br>\n",
    ">Output: `9.2`\n",
    ">\n",
    ">Input: `[]` <br>\n",
    ">Output: `0`\n",
    ">\n",
    ">Input: `[-2.398]` <br>\n",
    ">Output: `-2.398`\n",
    "> \n",
    "> <br>\n",
    ">\n",
    ">### Assumptions <br>\n",
    "> - You can assume that you are only given numbers.\n",
    "> - You cannot assume the size of the array.\n",
    "> - You can assume that you do get an array and if the array is empty return 0.<br>\n",
    "> \n",
    "> <br>\n",
    ">\n",
    ">### What We're Testing\n",
    ">We're testing basic loops and math operations. This is for beginners who are just learning loops and math operations.<br>\n",
    ">Advanced users may find this extremely easy and can easily write this in one line. <br>\n",
    "> <br>\n"
   ],
   "metadata": {}
  },
  {
   "cell_type": "code",
   "execution_count": null,
   "source": [
    "# Tests\n",
    "\n",
    "import codewars_test as test\n",
    "from solution import sum_array\n",
    "\n",
    "@test.describe(\"Testing sum array\")\n",
    "def tests():\n",
    "    @test.it(\"Fixed tests\")\n",
    "    def fixed_tests(): \n",
    "        test.assert_equals(sum_array([]), 0)\n",
    "        test.assert_equals(sum_array([1, 2, 3]), 6)\n",
    "        test.assert_equals(sum_array([1.1, 2.2, 3.3]), 6.6)\n",
    "        test.assert_equals(sum_array([4, 5, 6]), 15)\n",
    "        test.assert_equals(sum_array(range(101)), 5050)"
   ],
   "outputs": [],
   "metadata": {}
  },
  {
   "cell_type": "markdown",
   "source": [
    "# My Solution\n",
    "\n",
    "### My Understanding\n",
    "\n",
    "I will be given a list of integers and I need to total them up and return the sum. <br>\n",
    "I noticed in the test, that they are using the `range()` function, which I believe will act like a list.<br>\n",
    "I think I can just use the `sum()` function on the list to get the total.\n",
    "\n",
    "- [] use `sum()` on `a`\n",
    "- [] return the result"
   ],
   "metadata": {}
  },
  {
   "cell_type": "code",
   "execution_count": 1,
   "source": [
    "def sum_array(a):\n",
    "\n",
    "    # get and return the total of 'a'\n",
    "    return sum(a)"
   ],
   "outputs": [],
   "metadata": {}
  },
  {
   "cell_type": "code",
   "execution_count": 2,
   "source": [
    "sum_array([])"
   ],
   "outputs": [
    {
     "output_type": "execute_result",
     "data": {
      "text/plain": [
       "0"
      ]
     },
     "metadata": {},
     "execution_count": 2
    }
   ],
   "metadata": {}
  },
  {
   "cell_type": "code",
   "execution_count": 3,
   "source": [
    "sum_array([1, 2, 3])"
   ],
   "outputs": [
    {
     "output_type": "execute_result",
     "data": {
      "text/plain": [
       "6"
      ]
     },
     "metadata": {},
     "execution_count": 3
    }
   ],
   "metadata": {}
  },
  {
   "cell_type": "code",
   "execution_count": 4,
   "source": [
    "sum_array([1.1, 2.2, 3.3])"
   ],
   "outputs": [
    {
     "output_type": "execute_result",
     "data": {
      "text/plain": [
       "6.6"
      ]
     },
     "metadata": {},
     "execution_count": 4
    }
   ],
   "metadata": {}
  },
  {
   "cell_type": "code",
   "execution_count": 5,
   "source": [
    "sum_array([4, 5, 6])"
   ],
   "outputs": [
    {
     "output_type": "execute_result",
     "data": {
      "text/plain": [
       "15"
      ]
     },
     "metadata": {},
     "execution_count": 5
    }
   ],
   "metadata": {}
  },
  {
   "cell_type": "code",
   "execution_count": 6,
   "source": [
    "sum_array(range(101))"
   ],
   "outputs": [
    {
     "output_type": "execute_result",
     "data": {
      "text/plain": [
       "5050"
      ]
     },
     "metadata": {},
     "execution_count": 6
    }
   ],
   "metadata": {}
  },
  {
   "cell_type": "markdown",
   "source": [
    "# Other Solutions"
   ],
   "metadata": {}
  },
  {
   "cell_type": "code",
   "execution_count": null,
   "source": [],
   "outputs": [],
   "metadata": {}
  },
  {
   "cell_type": "code",
   "execution_count": null,
   "source": [],
   "outputs": [],
   "metadata": {}
  },
  {
   "cell_type": "code",
   "execution_count": null,
   "source": [],
   "outputs": [],
   "metadata": {}
  }
 ],
 "metadata": {
  "orig_nbformat": 4,
  "language_info": {
   "name": "python",
   "version": "3.9.7",
   "mimetype": "text/x-python",
   "codemirror_mode": {
    "name": "ipython",
    "version": 3
   },
   "pygments_lexer": "ipython3",
   "nbconvert_exporter": "python",
   "file_extension": ".py"
  },
  "kernelspec": {
   "name": "python3",
   "display_name": "Python 3.9.7 64-bit"
  },
  "interpreter": {
   "hash": "7d6993cb2f9ce9a59d5d7380609d9cb5192a9dedd2735a011418ad9e827eb538"
  }
 },
 "nbformat": 4,
 "nbformat_minor": 2
}