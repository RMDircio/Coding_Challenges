{
 "cells": [
  {
   "cell_type": "markdown",
   "source": [
    "# [Codewars](https://www.codewars.com/kata/53dc54212259ed3d4f00071c/train/python)\n",
    "\n",
    "- Fundamentals\n",
    "- Loops\n",
    "- Control Flow\n",
    "- Basic Language Features\n",
    "- Arrays"
   ],
   "metadata": {}
  },
  {
   "cell_type": "markdown",
   "source": [
    "# Even or Odd\n",
    "\n",
    "> <br>\n",
    "> Write a function that takes an array of numbers and returns the sum of the numbers.\n",
    "> \n",
    "> The numbers can be negative or non-integer. If the array does not contain any numbers then you should return 0.\n",
    "> \n",
    "> \"Even\" for even numbers or \"Odd\" for odd numbers.<br>\n",
    "> <br>\n",
    ">\n",
    ">### Examples\n",
    ">Input: `[1, 5.2, 4, 0, -1]` <br>\n",
    ">Output: `9.2`\n",
    ">\n",
    ">Input: `[]` <br>\n",
    ">Output: `0`\n",
    ">\n",
    ">Input: `[-2.398]` <br>\n",
    ">Output: `-2.398`\n",
    "> \n",
    "> <br>\n",
    ">\n",
    ">### Assumptions <br>\n",
    "> - You can assume that you are only given numbers.\n",
    "> - You cannot assume the size of the array.\n",
    "> - You can assume that you do get an array and if the array is empty return 0.<br>\n",
    "> \n",
    "> <br>\n",
    ">\n",
    ">### What We're Testing\n",
    ">We're testing basic loops and math operations. This is for beginners who are just learning loops and math operations.<br>\n",
    ">Advanced users may find this extremely easy and can easily write this in one line. <br>\n",
    "> <br>\n"
   ],
   "metadata": {}
  },
  {
   "cell_type": "code",
   "execution_count": null,
   "source": [
    "# Tests\n",
    "\n",
    "import codewars_test as test\n",
    "from solution import sum_array\n",
    "\n",
    "@test.describe(\"Testing sum array\")\n",
    "def tests():\n",
    "    @test.it(\"Fixed tests\")\n",
    "    def fixed_tests(): \n",
    "        test.assert_equals(sum_array([]), 0)\n",
    "        test.assert_equals(sum_array([1, 2, 3]), 6)\n",
    "        test.assert_equals(sum_array([1.1, 2.2, 3.3]), 6.6)\n",
    "        test.assert_equals(sum_array([4, 5, 6]), 15)\n",
    "        test.assert_equals(sum_array(range(101)), 5050)"
   ],
   "outputs": [],
   "metadata": {}
  },
  {
   "cell_type": "markdown",
   "source": [
    "# My Solution\n",
    "\n",
    "### My Understanding"
   ],
   "metadata": {}
  },
  {
   "cell_type": "code",
   "execution_count": null,
   "source": [],
   "outputs": [],
   "metadata": {}
  },
  {
   "cell_type": "code",
   "execution_count": null,
   "source": [],
   "outputs": [],
   "metadata": {}
  },
  {
   "cell_type": "code",
   "execution_count": null,
   "source": [],
   "outputs": [],
   "metadata": {}
  },
  {
   "cell_type": "code",
   "execution_count": null,
   "source": [],
   "outputs": [],
   "metadata": {}
  },
  {
   "cell_type": "markdown",
   "source": [
    "# Other Solutions"
   ],
   "metadata": {}
  },
  {
   "cell_type": "code",
   "execution_count": null,
   "source": [],
   "outputs": [],
   "metadata": {}
  },
  {
   "cell_type": "code",
   "execution_count": null,
   "source": [],
   "outputs": [],
   "metadata": {}
  },
  {
   "cell_type": "code",
   "execution_count": null,
   "source": [],
   "outputs": [],
   "metadata": {}
  }
 ],
 "metadata": {
  "orig_nbformat": 4,
  "language_info": {
   "name": "python",
   "version": "3.9.7"
  },
  "kernelspec": {
   "name": "python3",
   "display_name": "Python 3.9.7 64-bit"
  },
  "interpreter": {
   "hash": "7d6993cb2f9ce9a59d5d7380609d9cb5192a9dedd2735a011418ad9e827eb538"
  }
 },
 "nbformat": 4,
 "nbformat_minor": 2
}