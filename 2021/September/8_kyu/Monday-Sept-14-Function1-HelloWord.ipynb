{
 "cells": [
  {
   "cell_type": "markdown",
   "source": [
    "# [Codewars](https://www.codewars.com/kata/523b4ff7adca849afe000035/train/python)\n",
    "\n",
    "- Fundamentals\n",
    "- Functions\n",
    "- Control Flow\n",
    "- Basic Language Features"
   ],
   "metadata": {}
  },
  {
   "cell_type": "markdown",
   "source": [
    "## Function 1 - Hello World"
   ],
   "metadata": {}
  },
  {
   "cell_type": "markdown",
   "source": [
    ">**Description**:<br>\n",
    "Make a simple function called **greet** that returns the most-famous `\"hello world!\"`.\n",
    ">\n",
    ">**Style Points**<br>\n",
    "Sure, this is about as easy as it gets. But how clever can you be to create the most creative hello world you can think of? What is a `\"hello world\"` solution you would want to show your friends?\n"
   ],
   "metadata": {}
  },
  {
   "cell_type": "markdown",
   "source": [
    "# My Solution\n",
    "\n",
    "## My Understanding\n",
    "\n",
    "I need to create a function that will return a string - 'hello world!'. I would like to do this with two versions, a simple way and then a complex way.\n",
    "The simple way would be to use one return statement. The complex way would involve taking a list of characters and concat-ing them over a for loop.\n",
    "Highly unnecessary but I want to see if I can do it.\n",
    "\n",
    "### Simple Version\n",
    "- [x] Set a variable to equal 'Hello World!'\n",
    "- [x] Return variable\n",
    "- [x] Should also be able to just return a string of 'Hello World!'\n",
    "\n",
    "### Complex Version\n",
    "- [] Set a variable as a list of characters: 'H', 'e', 'l', 'l',...\n",
    "- [] Create a For Loop that loops over each element in list\n",
    "- [] Return list\n",
    "- [] Create an empty list to store the new concatenated strings\n",
    "- [] While in the For Loop, concatenate the list\n",
    "- [] Append the concatenations to the empty list\n",
    "- [] Correct the return statement to the new concatenated list "
   ],
   "metadata": {}
  },
  {
   "cell_type": "code",
   "execution_count": 3,
   "source": [
    "# Simple Version\n",
    "\n",
    "def simple_greet():\n",
    "    # Using a Variable\n",
    "    # greeting = 'Hello World!'\n",
    "    # return greeting\n",
    "\n",
    "    # Simply return the string\n",
    "    return 'Hello World!'"
   ],
   "outputs": [],
   "metadata": {}
  },
  {
   "cell_type": "code",
   "execution_count": 4,
   "source": [
    "simple_greet()"
   ],
   "outputs": [
    {
     "output_type": "execute_result",
     "data": {
      "text/plain": [
       "'Hello World!'"
      ]
     },
     "metadata": {},
     "execution_count": 4
    }
   ],
   "metadata": {}
  },
  {
   "cell_type": "code",
   "execution_count": null,
   "source": [
    "# Complex Version\n",
    "\n",
    "def complex_greet():\n",
    "    "
   ],
   "outputs": [],
   "metadata": {}
  }
 ],
 "metadata": {
  "orig_nbformat": 4,
  "language_info": {
   "name": "python",
   "version": "3.9.7",
   "mimetype": "text/x-python",
   "codemirror_mode": {
    "name": "ipython",
    "version": 3
   },
   "pygments_lexer": "ipython3",
   "nbconvert_exporter": "python",
   "file_extension": ".py"
  },
  "kernelspec": {
   "name": "python3",
   "display_name": "Python 3.9.7 64-bit"
  },
  "interpreter": {
   "hash": "7d6993cb2f9ce9a59d5d7380609d9cb5192a9dedd2735a011418ad9e827eb538"
  }
 },
 "nbformat": 4,
 "nbformat_minor": 2
}