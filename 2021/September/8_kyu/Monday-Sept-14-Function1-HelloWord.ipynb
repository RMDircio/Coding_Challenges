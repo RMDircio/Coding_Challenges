{
 "cells": [
  {
   "cell_type": "markdown",
   "source": [
    "# [Codewars](https://www.codewars.com/kata/523b4ff7adca849afe000035/train/python)\n",
    "\n",
    "- Fundamentals\n",
    "- Functions\n",
    "- Control Flow\n",
    "- Basic Language Features"
   ],
   "metadata": {}
  },
  {
   "cell_type": "markdown",
   "source": [
    "## Function 1 - Hello World"
   ],
   "metadata": {}
  },
  {
   "cell_type": "markdown",
   "source": [
    ">**Description**:<br>\n",
    "Make a simple function called **greet** that returns the most-famous `\"hello world!\"`.\n",
    ">\n",
    ">**Style Points**<br>\n",
    "Sure, this is about as easy as it gets. But how clever can you be to create the most creative hello world you can think of? What is a `\"hello world\"` solution you would want to show your friends?\n"
   ],
   "metadata": {}
  },
  {
   "cell_type": "markdown",
   "source": [
    "# My Solution\n",
    "\n",
    "## My Understanding\n",
    "\n",
    "I need to create a function that will return a string - 'hello world!'. I would like to do this with two versions, a simple way and then a complex way.\n",
    "The simple way would be to use one return statement. The complex way would involve taking a list of characters and concat-ing them over a for loop.\n",
    "Highly unnecessary but I want to see if I can do it.\n",
    "\n",
    "### Simple Version\n",
    "- [] Set a variable to equal 'Hello World!'\n",
    "- [] Return variable\n",
    "- [] Should also be able to just return a string of 'Hello World!'\n",
    "\n",
    "### Complex Version\n",
    "- [] Set a variable as a list of characters: 'H', 'e', 'l', 'l',...\n",
    "- [] Create a For Loop that loops over each element in list\n",
    "- [] Return list\n",
    "- [] Create an empty list to store the new concatenated strings\n",
    "- [] While in the For Loop, concatenate the list\n",
    "- [] Append the concatenations to the empty list\n",
    "- [] Correct the return statement to the new concatenated list "
   ],
   "metadata": {}
  },
  {
   "cell_type": "code",
   "execution_count": null,
   "source": [
    "# Write a function `greet` that returns \"hello world!\""
   ],
   "outputs": [],
   "metadata": {}
  }
 ],
 "metadata": {
  "orig_nbformat": 4,
  "language_info": {
   "name": "python",
   "version": "3.9.7"
  },
  "kernelspec": {
   "name": "python3",
   "display_name": "Python 3.9.7 64-bit"
  },
  "interpreter": {
   "hash": "7d6993cb2f9ce9a59d5d7380609d9cb5192a9dedd2735a011418ad9e827eb538"
  }
 },
 "nbformat": 4,
 "nbformat_minor": 2
}