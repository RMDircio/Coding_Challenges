{
 "cells": [
  {
   "cell_type": "markdown",
   "source": [
    "# [Codewars](https://www.codewars.com/kata/5168bb5dfe9a00b126000018/train/python)\n",
    "\n",
    "- Fundamentals\n",
    "- Strings"
   ],
   "metadata": {}
  },
  {
   "cell_type": "markdown",
   "source": [
    "## Reversed Strings"
   ],
   "metadata": {}
  },
  {
   "cell_type": "markdown",
   "source": [
    ">Complete the solution so that it reverses the string passed into it.\r\n",
    "\r\n",
    "`'world'  =>  'dlrow'`"
   ],
   "metadata": {}
  },
  {
   "cell_type": "code",
   "execution_count": null,
   "source": [
    "# Tests\n",
    "\n",
    "import codewars_test as test\n",
    "from solution import solution\n",
    "\n",
    "@test.describe(\"Fixed Tests\")\n",
    "def basic_tests():\n",
    "    @test.it('Basic Test Cases')\n",
    "    def basic_test_cases():\n",
    "        test.assert_equals(solution('world'), 'dlrow')\n",
    "        test.assert_equals(solution('hello'), 'olleh')\n",
    "        test.assert_equals(solution(''), '')\n",
    "        test.assert_equals(solution('h'), 'h')"
   ],
   "outputs": [],
   "metadata": {}
  },
  {
   "cell_type": "markdown",
   "source": [
    "# My Solution\n",
    "\n",
    "## My Understanding\n",
    "\n",
    "I will be given a string (not a list). I need to reverse that string and return the result as a string.\n",
    "\n",
    "My first idea is to make a new list and append the last element in the string to the new list. Then return the list as a string.\n",
    "This is long process and I am sure there is a better way.\n",
    "\n",
    "- [X] Make a new list\n",
    "- [X] For loop - append string to list\n",
    "- [X] Return the list\n",
    "- [X] Correct for loop - append the last element of string\n",
    "        [This link was helpful for doing a For Loop backwards](https://tutorial.eyehunts.com/python/reverse-for-loop-in-python-example-code/#:~:text=To%20reverse%20for%20loop%20in%20Python%20just%20need,%28%29%20function.%20Example%20Reverse%20for%20loop%20in%20Python)\n",
    "- [] Return the list as string<br>\n",
    "        - Realized that not using lists, would be helpful. I should use an empty string instead.<br> - [Method 1 was used](https://www.geeksforgeeks.org/python-program-to-convert-a-list-to-string/)"
   ],
   "metadata": {}
  },
  {
   "cell_type": "code",
   "execution_count": 38,
   "source": [
    "def solution(string):\n",
    "    # empty string to store characters\n",
    "    # word = []\n",
    "    word = ''\n",
    "\n",
    "    for character in reversed(string): # looked up how to for loop backwards\n",
    "        # word.append(character) # used with a list\n",
    "        \n",
    "        # add each character to the 'word' string\n",
    "        word += character\n",
    "\n",
    "    return word"
   ],
   "outputs": [],
   "metadata": {}
  },
  {
   "cell_type": "code",
   "execution_count": 39,
   "source": [
    "solution('world')"
   ],
   "outputs": [
    {
     "output_type": "execute_result",
     "data": {
      "text/plain": [
       "'dlrow'"
      ]
     },
     "metadata": {},
     "execution_count": 39
    }
   ],
   "metadata": {}
  },
  {
   "cell_type": "code",
   "execution_count": 40,
   "source": [
    "solution('hello')"
   ],
   "outputs": [
    {
     "output_type": "execute_result",
     "data": {
      "text/plain": [
       "'olleh'"
      ]
     },
     "metadata": {},
     "execution_count": 40
    }
   ],
   "metadata": {}
  },
  {
   "cell_type": "code",
   "execution_count": 41,
   "source": [
    "solution('')"
   ],
   "outputs": [
    {
     "output_type": "execute_result",
     "data": {
      "text/plain": [
       "''"
      ]
     },
     "metadata": {},
     "execution_count": 41
    }
   ],
   "metadata": {}
  },
  {
   "cell_type": "code",
   "execution_count": 42,
   "source": [
    "solution('h')"
   ],
   "outputs": [
    {
     "output_type": "execute_result",
     "data": {
      "text/plain": [
       "'h'"
      ]
     },
     "metadata": {},
     "execution_count": 42
    }
   ],
   "metadata": {}
  },
  {
   "cell_type": "markdown",
   "source": [
    "# Other Solutions"
   ],
   "metadata": {}
  },
  {
   "cell_type": "code",
   "execution_count": null,
   "source": [
    "def solution(string):\n",
    "  return str[::-1]"
   ],
   "outputs": [],
   "metadata": {}
  },
  {
   "cell_type": "code",
   "execution_count": null,
   "source": [
    "def solution(string):\n",
    "    # Pythonic way :)\n",
    "    return string[::-1]\n",
    "    \n",
    "    # For beginners it's good practise \n",
    "    # to know how reverse() or [::-1]\n",
    "    # works on the surface\n",
    "    #for char in range(len(string)-1,-1,-1):\n",
    "        #return string[char]"
   ],
   "outputs": [],
   "metadata": {}
  },
  {
   "cell_type": "code",
   "execution_count": null,
   "source": [
    "solution = lambda s: s[::-1]"
   ],
   "outputs": [],
   "metadata": {}
  },
  {
   "cell_type": "code",
   "execution_count": null,
   "source": [
    "def solution(string):\n",
    "    newstring = \"\"\n",
    "    letter = len(string) - 1\n",
    "    for x in string:\n",
    "        x = string[letter]\n",
    "        newstring = newstring + x\n",
    "        letter = letter -1 \n",
    "    return newstring"
   ],
   "outputs": [],
   "metadata": {}
  },
  {
   "cell_type": "code",
   "execution_count": null,
   "source": [
    "def solution(string):\n",
    "    temp = list(string)\n",
    "    temp.reverse()\n",
    "    return ''.join(temp)"
   ],
   "outputs": [],
   "metadata": {}
  }
 ],
 "metadata": {
  "orig_nbformat": 4,
  "language_info": {
   "name": "python",
   "version": "3.9.7",
   "mimetype": "text/x-python",
   "codemirror_mode": {
    "name": "ipython",
    "version": 3
   },
   "pygments_lexer": "ipython3",
   "nbconvert_exporter": "python",
   "file_extension": ".py"
  },
  "kernelspec": {
   "name": "python3",
   "display_name": "Python 3.9.7 64-bit"
  },
  "interpreter": {
   "hash": "7d6993cb2f9ce9a59d5d7380609d9cb5192a9dedd2735a011418ad9e827eb538"
  }
 },
 "nbformat": 4,
 "nbformat_minor": 2
}
