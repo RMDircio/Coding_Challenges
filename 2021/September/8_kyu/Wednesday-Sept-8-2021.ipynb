{
 "cells": [
  {
   "cell_type": "markdown",
   "source": [
    "# [Codewars](https://www.codewars.com/kata/5168bb5dfe9a00b126000018)\r\n",
    "\r\n",
    "- Fundamentals\r\n",
    "- Strings"
   ],
   "metadata": {}
  },
  {
   "cell_type": "markdown",
   "source": [
    "## Reversed Strings"
   ],
   "metadata": {}
  },
  {
   "cell_type": "markdown",
   "source": [
    ">Complete the solution so that it reverses the string passed into it.\r\n",
    "\r\n",
    "`'world'  =>  'dlrow'`"
   ],
   "metadata": {}
  },
  {
   "cell_type": "code",
   "execution_count": null,
   "source": [
    "# Tests\r\n",
    "\r\n",
    "import codewars_test as test\r\n",
    "from solution import solution\r\n",
    "\r\n",
    "@test.describe(\"Fixed Tests\")\r\n",
    "def basic_tests():\r\n",
    "    @test.it('Basic Test Cases')\r\n",
    "    def basic_test_cases():\r\n",
    "        test.assert_equals(solution('world'), 'dlrow')\r\n",
    "        test.assert_equals(solution('hello'), 'olleh')\r\n",
    "        test.assert_equals(solution(''), '')\r\n",
    "        test.assert_equals(solution('h'), 'h')"
   ],
   "outputs": [],
   "metadata": {}
  },
  {
   "cell_type": "markdown",
   "source": [
    "# My Solution\r\n",
    "\r\n",
    "## My Understanding"
   ],
   "metadata": {}
  },
  {
   "cell_type": "markdown",
   "source": [],
   "metadata": {}
  }
 ],
 "metadata": {
  "orig_nbformat": 4,
  "language_info": {
   "name": "python",
   "version": "3.9.1",
   "mimetype": "text/x-python",
   "codemirror_mode": {
    "name": "ipython",
    "version": 3
   },
   "pygments_lexer": "ipython3",
   "nbconvert_exporter": "python",
   "file_extension": ".py"
  },
  "kernelspec": {
   "name": "python3",
   "display_name": "Python 3.9.1 64-bit"
  },
  "interpreter": {
   "hash": "ac59ebe37160ed0dfa835113d9b8498d9f09ceb179beaac4002f036b9467c963"
  }
 },
 "nbformat": 4,
 "nbformat_minor": 2
}