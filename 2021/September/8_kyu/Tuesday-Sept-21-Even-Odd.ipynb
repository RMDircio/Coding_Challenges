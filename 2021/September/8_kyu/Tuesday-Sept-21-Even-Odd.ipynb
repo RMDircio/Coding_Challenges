{
 "cells": [
  {
   "cell_type": "markdown",
   "source": [
    "# [Codewars](https://www.codewars.com/kata/53da3dbb4a5168369a0000fe/train/python)\n",
    "\n",
    "- Fundamentals\n",
    "- Mathematics\n",
    "- Algorithms\n",
    "- Numbers"
   ],
   "metadata": {}
  },
  {
   "cell_type": "markdown",
   "source": [
    "# Even or Odd\n",
    "\n",
    "> <br>\n",
    "> Create a function that takes an integer as an argument and returns <br>\n",
    "> \n",
    "> \"Even\" for even numbers or \"Odd\" for odd numbers.<br>\n",
    "> <br>"
   ],
   "metadata": {}
  },
  {
   "cell_type": "code",
   "execution_count": null,
   "source": [
    "# Tests\n",
    "\n",
    "import codewars_test as test\n",
    "from solution import even_or_odd\n",
    "\n",
    "@test.describe(\"Fixed Tests\")\n",
    "def fixed_tests():\n",
    "    @test.it('Basic Test Cases')\n",
    "    def basic_test_cases():\n",
    "        test.assert_equals(even_or_odd(2), \"Even\")\n",
    "        test.assert_equals(even_or_odd(1), \"Odd\")\n",
    "        test.assert_equals(even_or_odd(0), \"Even\")\n",
    "        test.assert_equals(even_or_odd(1545452), \"Even\")\n",
    "        test.assert_equals(even_or_odd(7), \"Odd\")\n",
    "        test.assert_equals(even_or_odd(78), \"Even\")\n",
    "        test.assert_equals(even_or_odd(17), \"Odd\")\n",
    "        test.assert_equals(even_or_odd(74156741), \"Odd\")\n",
    "        test.assert_equals(even_or_odd(100000), \"Even\")\n",
    "        test.assert_equals(even_or_odd(-123), \"Odd\")\n",
    "        test.assert_equals(even_or_odd(-456), \"Even\")"
   ],
   "outputs": [],
   "metadata": {}
  },
  {
   "cell_type": "markdown",
   "source": [
    "# My Solution\n",
    "\n",
    "### My Understanding"
   ],
   "metadata": {}
  },
  {
   "cell_type": "code",
   "execution_count": null,
   "source": [
    "def even_or_odd(number):"
   ],
   "outputs": [],
   "metadata": {}
  },
  {
   "cell_type": "code",
   "execution_count": null,
   "source": [],
   "outputs": [],
   "metadata": {}
  },
  {
   "cell_type": "code",
   "execution_count": null,
   "source": [],
   "outputs": [],
   "metadata": {}
  },
  {
   "cell_type": "code",
   "execution_count": null,
   "source": [],
   "outputs": [],
   "metadata": {}
  },
  {
   "cell_type": "markdown",
   "source": [
    "# Other Solutions"
   ],
   "metadata": {}
  },
  {
   "cell_type": "code",
   "execution_count": null,
   "source": [],
   "outputs": [],
   "metadata": {}
  },
  {
   "cell_type": "code",
   "execution_count": null,
   "source": [],
   "outputs": [],
   "metadata": {}
  },
  {
   "cell_type": "code",
   "execution_count": null,
   "source": [],
   "outputs": [],
   "metadata": {}
  }
 ],
 "metadata": {
  "orig_nbformat": 4,
  "language_info": {
   "name": "python",
   "version": "3.9.7"
  },
  "kernelspec": {
   "name": "python3",
   "display_name": "Python 3.9.7 64-bit"
  },
  "interpreter": {
   "hash": "7d6993cb2f9ce9a59d5d7380609d9cb5192a9dedd2735a011418ad9e827eb538"
  }
 },
 "nbformat": 4,
 "nbformat_minor": 2
}