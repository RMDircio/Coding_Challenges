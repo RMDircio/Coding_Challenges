{
 "cells": [
  {
   "cell_type": "markdown",
   "source": [
    "# [Codewars](https://www.codewars.com/kata/5265326f5fda8eb1160004c8/train/python)\n",
    "\n",
    "- Fundamentals\n",
    "- Type Casting\n",
    "- Numbers\n",
    "- Strings"
   ],
   "metadata": {}
  },
  {
   "cell_type": "markdown",
   "source": [
    "## Convert a String!\n",
    "\n",
    ">We need a function that can transform a number into a string.\n",
    ">\n",
    ">What ways of achieving this do you know?\n",
    ">\n",
    ">Examples:\n",
    "\n",
    ">`123 --> \"123\"`\n",
    ">`999 --> \"999\"`\n",
    ">"
   ],
   "metadata": {}
  },
  {
   "cell_type": "code",
   "execution_count": null,
   "source": [
    "# Tests\n",
    "\n",
    "import codewars_test as test\n",
    "from solution import number_to_string\n",
    "\n",
    "@test.describe(\"Fixed Tests\")\n",
    "def basic_tests():\n",
    "    @test.it('Basic Test Cases')\n",
    "    def basic_test_cases():\n",
    "        test.assert_equals(number_to_string(67), '67')\n",
    "        test.assert_equals(number_to_string(79585), '79585')\n",
    "        test.assert_equals(number_to_string(79585), \"79585\")\n",
    "        test.assert_equals(number_to_string(1+2), '3')\n",
    "        test.assert_equals(number_to_string(1-2), '-1')"
   ],
   "outputs": [],
   "metadata": {}
  },
  {
   "cell_type": "markdown",
   "source": [
    "# My Solution\n",
    "\n",
    "## My Understanding\n",
    "\n",
    "I will be given a number and I need to cast that as a string.\n",
    "I noticed in the tests, some arithmetic is done to the parameters given when the function is called.\n",
    "I believe a simple was to do this is to return `num` as a string\n",
    "\n",
    "- [] Cast `num` as a string with `str()`\n",
    "- [] Return the new string"
   ],
   "metadata": {}
  },
  {
   "cell_type": "code",
   "execution_count": 7,
   "source": [
    "def number_to_string(num):\n",
    "    ## cast the number given as a string\n",
    "    # num = str(num)\n",
    "    # return num\n",
    "\n",
    "    # Another way - one line of code\n",
    "    return str(num)"
   ],
   "outputs": [],
   "metadata": {}
  },
  {
   "cell_type": "code",
   "execution_count": 8,
   "source": [
    "number_to_string(67)"
   ],
   "outputs": [
    {
     "output_type": "execute_result",
     "data": {
      "text/plain": [
       "'67'"
      ]
     },
     "metadata": {},
     "execution_count": 8
    }
   ],
   "metadata": {}
  },
  {
   "cell_type": "code",
   "execution_count": 9,
   "source": [
    "number_to_string(79585)\n"
   ],
   "outputs": [
    {
     "output_type": "execute_result",
     "data": {
      "text/plain": [
       "'79585'"
      ]
     },
     "metadata": {},
     "execution_count": 9
    }
   ],
   "metadata": {}
  },
  {
   "cell_type": "code",
   "execution_count": 10,
   "source": [
    "number_to_string(1+2)\n"
   ],
   "outputs": [
    {
     "output_type": "execute_result",
     "data": {
      "text/plain": [
       "'3'"
      ]
     },
     "metadata": {},
     "execution_count": 10
    }
   ],
   "metadata": {}
  },
  {
   "cell_type": "code",
   "execution_count": 11,
   "source": [
    "\n",
    "number_to_string(1-2)"
   ],
   "outputs": [
    {
     "output_type": "execute_result",
     "data": {
      "text/plain": [
       "'-1'"
      ]
     },
     "metadata": {},
     "execution_count": 11
    }
   ],
   "metadata": {}
  },
  {
   "cell_type": "markdown",
   "source": [
    "# Other Solutions"
   ],
   "metadata": {}
  },
  {
   "cell_type": "code",
   "execution_count": null,
   "source": [
    "number_to_string = lambda n: str(n)"
   ],
   "outputs": [],
   "metadata": {}
  },
  {
   "cell_type": "code",
   "execution_count": null,
   "source": [
    "def number_to_string(num):\n",
    "    return \"{}\".format(num)"
   ],
   "outputs": [],
   "metadata": {}
  },
  {
   "cell_type": "code",
   "execution_count": null,
   "source": [
    "def number_to_string(num):\n",
    "  if num < 0: return \"-\" + number_to_string(-num)\n",
    "  if num == 0: return \"0\"\n",
    "  \n",
    "  s = ''\n",
    "  \n",
    "  while num > 0:\n",
    "      a = num % 10\n",
    "      s = chr(ord('0') + a) + s\n",
    "      num = num // 10\n",
    "      \n",
    "  return s"
   ],
   "outputs": [],
   "metadata": {}
  }
 ],
 "metadata": {
  "orig_nbformat": 4,
  "language_info": {
   "name": "python",
   "version": "3.9.7",
   "mimetype": "text/x-python",
   "codemirror_mode": {
    "name": "ipython",
    "version": 3
   },
   "pygments_lexer": "ipython3",
   "nbconvert_exporter": "python",
   "file_extension": ".py"
  },
  "kernelspec": {
   "name": "python3",
   "display_name": "Python 3.9.7 64-bit"
  },
  "interpreter": {
   "hash": "7d6993cb2f9ce9a59d5d7380609d9cb5192a9dedd2735a011418ad9e827eb538"
  }
 },
 "nbformat": 4,
 "nbformat_minor": 2
}