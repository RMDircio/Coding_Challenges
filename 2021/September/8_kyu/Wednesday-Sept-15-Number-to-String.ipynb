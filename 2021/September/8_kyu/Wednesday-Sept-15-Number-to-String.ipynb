{
 "cells": [
  {
   "cell_type": "markdown",
   "source": [
    "# [Codewars](https://www.codewars.com/kata/5265326f5fda8eb1160004c8/train/python)\n",
    "\n",
    "- Fundamentals\n",
    "- Type Casting\n",
    "- Numbers\n",
    "- Strings"
   ],
   "metadata": {}
  },
  {
   "cell_type": "markdown",
   "source": [
    "## Convert a String!\n",
    "\n",
    ">We need a function that can transform a number into a string.\n",
    ">\n",
    ">What ways of achieving this do you know?\n",
    ">\n",
    ">Examples:\n",
    "\n",
    ">`123 --> \"123\"`\n",
    ">`999 --> \"999\"`\n",
    ">"
   ],
   "metadata": {}
  },
  {
   "cell_type": "code",
   "execution_count": null,
   "source": [
    "# Tests\n",
    "\n",
    "import codewars_test as test\n",
    "from solution import number_to_string\n",
    "\n",
    "@test.describe(\"Fixed Tests\")\n",
    "def basic_tests():\n",
    "    @test.it('Basic Test Cases')\n",
    "    def basic_test_cases():\n",
    "        test.assert_equals(number_to_string(67), '67')\n",
    "        test.assert_equals(number_to_string(79585), '79585')\n",
    "        test.assert_equals(number_to_string(79585), \"79585\")\n",
    "        test.assert_equals(number_to_string(1+2), '3')\n",
    "        test.assert_equals(number_to_string(1-2), '-1')"
   ],
   "outputs": [],
   "metadata": {}
  },
  {
   "cell_type": "markdown",
   "source": [
    "# My Solution\n",
    "\n",
    "## My Understanding"
   ],
   "metadata": {}
  },
  {
   "cell_type": "code",
   "execution_count": null,
   "source": [
    "def number_to_string(num):\n",
    "    # Return a string of the number here!"
   ],
   "outputs": [],
   "metadata": {}
  },
  {
   "cell_type": "code",
   "execution_count": null,
   "source": [],
   "outputs": [],
   "metadata": {}
  },
  {
   "cell_type": "code",
   "execution_count": null,
   "source": [],
   "outputs": [],
   "metadata": {}
  },
  {
   "cell_type": "markdown",
   "source": [
    "# Other Solutions"
   ],
   "metadata": {}
  }
 ],
 "metadata": {
  "orig_nbformat": 4,
  "language_info": {
   "name": "python",
   "version": "3.9.7"
  },
  "kernelspec": {
   "name": "python3",
   "display_name": "Python 3.9.7 64-bit"
  },
  "interpreter": {
   "hash": "7d6993cb2f9ce9a59d5d7380609d9cb5192a9dedd2735a011418ad9e827eb538"
  }
 },
 "nbformat": 4,
 "nbformat_minor": 2
}