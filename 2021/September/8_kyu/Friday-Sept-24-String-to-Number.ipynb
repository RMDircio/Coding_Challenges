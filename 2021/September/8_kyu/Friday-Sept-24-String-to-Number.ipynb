{
 "cells": [
  {
   "cell_type": "markdown",
   "source": [
    "# [Codewars](https://www.codewars.com/kata/544675c6f971f7399a000e79/train/python)\n",
    "\n",
    "- Fundamentals\n",
    "- Parsing\n",
    "- Algorithms\n",
    "- Strings\n"
   ],
   "metadata": {}
  },
  {
   "cell_type": "markdown",
   "source": [
    "# Convert a String to a Number!\n",
    "> <br>\n",
    ">\n",
    ">**Description**<br>\n",
    ">\n",
    ">We need a function that can transform a string into a number. \n",
    ">\n",
    ">What ways of  achieving this do you know?\n",
    ">\n",
    ">Note: Don't worry, all inputs will be strings, and every string is a perfectly \n",
    ">valid representation of an integral number.\n",
    ">\n",
    "> **Examples**<br>\n",
    ">\n",
    ">`\"1234\" --> 1234`<br>\n",
    ">`\"605\"  --> 605`<br>\n",
    ">`\"1405\" --> 1405`<br>\n",
    ">`\"-7\" --> -7`<br>\n",
    "> <br>"
   ],
   "metadata": {}
  },
  {
   "cell_type": "code",
   "execution_count": null,
   "source": [
    "# Tests\n",
    "\n",
    "import codewars_test as test\n",
    "from solution import string_to_number\n",
    "\n",
    "@test.describe(\"string_to_number\")\n",
    "def basic_tests():\n",
    "    @test.it('Basic Test Cases')\n",
    "    def basic_test_cases():\n",
    "        test.assert_equals(string_to_number(\"1234\"), 1234)\n",
    "        test.assert_equals(string_to_number(\"605\"), 605)\n",
    "        test.assert_equals(string_to_number(\"1405\"), 1405)\n",
    "        test.assert_equals(string_to_number(\"-7\"), -7)"
   ],
   "outputs": [],
   "metadata": {}
  },
  {
   "cell_type": "markdown",
   "source": [
    "# My Solution\n",
    "\n",
    "### My Understanding\n",
    "\n",
    "I will be given a string (all will be numbers), I need to cast them as integers.\n",
    "I can use `int()` function to do so.\n",
    "\n",
    "- [x] cast `s` to an integer\n",
    "- [x] return the integer\n"
   ],
   "metadata": {}
  },
  {
   "cell_type": "code",
   "execution_count": 3,
   "source": [
    "def string_to_number(s):\n",
    "    \n",
    "    # change 's' to an integer\n",
    "    return int(s)"
   ],
   "outputs": [],
   "metadata": {}
  },
  {
   "cell_type": "code",
   "execution_count": 4,
   "source": [
    "string_to_number(\"1234\")"
   ],
   "outputs": [
    {
     "output_type": "execute_result",
     "data": {
      "text/plain": [
       "1234"
      ]
     },
     "metadata": {},
     "execution_count": 4
    }
   ],
   "metadata": {}
  },
  {
   "cell_type": "code",
   "execution_count": 5,
   "source": [
    "string_to_number(\"605\")"
   ],
   "outputs": [
    {
     "output_type": "execute_result",
     "data": {
      "text/plain": [
       "605"
      ]
     },
     "metadata": {},
     "execution_count": 5
    }
   ],
   "metadata": {}
  },
  {
   "cell_type": "code",
   "execution_count": 6,
   "source": [
    "string_to_number(\"1405\")"
   ],
   "outputs": [
    {
     "output_type": "execute_result",
     "data": {
      "text/plain": [
       "1405"
      ]
     },
     "metadata": {},
     "execution_count": 6
    }
   ],
   "metadata": {}
  },
  {
   "cell_type": "code",
   "execution_count": 7,
   "source": [
    "string_to_number(\"-7\")"
   ],
   "outputs": [
    {
     "output_type": "execute_result",
     "data": {
      "text/plain": [
       "-7"
      ]
     },
     "metadata": {},
     "execution_count": 7
    }
   ],
   "metadata": {}
  },
  {
   "cell_type": "markdown",
   "source": [
    "# Other Solutions"
   ],
   "metadata": {}
  },
  {
   "cell_type": "code",
   "execution_count": null,
   "source": [
    "string_to_number = lambda n: int(n)"
   ],
   "outputs": [],
   "metadata": {}
  },
  {
   "cell_type": "code",
   "execution_count": null,
   "source": [
    "#krishp\n",
    "def string_to_number(s):\n",
    "    return float(str(float(str(int(s)))))"
   ],
   "outputs": [],
   "metadata": {}
  }
 ],
 "metadata": {
  "orig_nbformat": 4,
  "language_info": {
   "name": "python",
   "version": "3.9.7",
   "mimetype": "text/x-python",
   "codemirror_mode": {
    "name": "ipython",
    "version": 3
   },
   "pygments_lexer": "ipython3",
   "nbconvert_exporter": "python",
   "file_extension": ".py"
  },
  "kernelspec": {
   "name": "python3",
   "display_name": "Python 3.9.7 64-bit"
  },
  "interpreter": {
   "hash": "7d6993cb2f9ce9a59d5d7380609d9cb5192a9dedd2735a011418ad9e827eb538"
  }
 },
 "nbformat": 4,
 "nbformat_minor": 2
}