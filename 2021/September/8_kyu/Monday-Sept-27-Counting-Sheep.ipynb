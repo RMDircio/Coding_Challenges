{
 "cells": [
  {
   "cell_type": "markdown",
   "source": [
    "# [Codewars](https://www.codewars.com/kata/54edbc7200b811e956000556/train/python)\n",
    "\n",
    "- Fundamentals\n",
    "- Arrays\n"
   ],
   "metadata": {}
  },
  {
   "cell_type": "markdown",
   "source": [
    "# Counting Sheep...\n",
    "> <br>\n",
    ">\n",
    ">Consider an array/list of sheep where some sheep may be missing from their place.\n",
    ">\n",
    "> We need a function that counts the number of sheep present in the array (true means present).\n",
    ">\n",
    "> **Examples**<br>\n",
    ">\n",
    ">>`[True,  True,  True,  False,`<br>\n",
    ">>  &nbsp; `True,  True,  True,  True ,`<br>\n",
    ">>  &nbsp; `True,  False, True,  False,`<br>\n",
    ">>  &nbsp; `True,  False, False, True ,`<br>\n",
    ">>  &nbsp; `True,  True,  True,  True ,`<br>\n",
    ">>  &nbsp; `False, False, True,  True]`\n",
    "> <br>\n",
    ">\n",
    ">The correct answer would be 17.\n",
    ">\n",
    ">Hint: Don't forget to check for bad values like null/undefined\n",
    ">\n",
    "> <br>"
   ],
   "metadata": {}
  },
  {
   "cell_type": "code",
   "execution_count": null,
   "source": [
    "# Tests\n",
    "\n",
    "array1 = [True,  True,  True,  False,\n",
    "          True,  True,  True,  True ,\n",
    "          True,  False, True,  False,\n",
    "          True,  False, False, True ,\n",
    "          True,  True,  True,  True ,\n",
    "          False, False, True,  True ];\n",
    "              \n",
    "test.assert_equals(result := count_sheeps(array1), 17, \"There are 17 sheeps in total, not %s\" % result)"
   ],
   "outputs": [],
   "metadata": {}
  },
  {
   "cell_type": "markdown",
   "source": [
    "# My Solution\n",
    "\n",
    "### My Understanding\n",
    "I will be given an array of boolean values. I need to count the number of True values and return sun as an integer.\n",
    "\n",
    "- [x] Count the whole array\n",
    "- [x] Count only the `True` values\n",
    "-------- I didn't want to make a new list and run a For Loop. Figured there was a counting method I could use.<br>\n",
    "-------- Found I could use `sum()` or `[].count(boolean_value)` - I like the `.count()` better<br>\n",
    "-------- [StackOverflow Link - sum() and .count()](https://stackoverflow.com/questions/12765833/counting-the-number-of-true-booleans-in-a-python-list)\n",
    "- [x] Make sure the return statement is correct\n",
    "- [x] Make a case for when the array is empty<br>\n",
    "-------- The `.count()` will return 0 when the array is empty\n",
    "\n"
   ],
   "metadata": {}
  },
  {
   "cell_type": "code",
   "execution_count": 24,
   "source": [
    "def count_sheeps(sheep):\n",
    "\n",
    "  # # Get the whole length of the array\n",
    "  # return len(sheep)\n",
    "  \n",
    "  # Count only the 'True' values\n",
    "  return sheep.count(True)\n",
    "  \n",
    "  "
   ],
   "outputs": [],
   "metadata": {}
  },
  {
   "cell_type": "code",
   "execution_count": 25,
   "source": [
    "array1 = [True,  True,  True,  False,\n",
    "          True,  True,  True,  True ,\n",
    "          True,  False, True,  False,\n",
    "          True,  False, False, True ,\n",
    "          True,  True,  True,  True ,\n",
    "          False, False, True,  True]\n",
    "\n",
    "count_sheeps(array1)"
   ],
   "outputs": [
    {
     "output_type": "execute_result",
     "data": {
      "text/plain": [
       "17"
      ]
     },
     "metadata": {},
     "execution_count": 25
    }
   ],
   "metadata": {}
  },
  {
   "cell_type": "code",
   "execution_count": 26,
   "source": [
    "array1 = []\n",
    "count_sheeps(array1)"
   ],
   "outputs": [
    {
     "output_type": "execute_result",
     "data": {
      "text/plain": [
       "0"
      ]
     },
     "metadata": {},
     "execution_count": 26
    }
   ],
   "metadata": {}
  },
  {
   "cell_type": "markdown",
   "source": [
    "# Other Solutions"
   ],
   "metadata": {}
  },
  {
   "cell_type": "code",
   "execution_count": null,
   "source": [
    "def count_sheeps(array_of_sheep):\n",
    "  # TODO May the force be with you\n",
    "  count = 0\n",
    "  for sheep in array_of_sheep:\n",
    "      if sheep:\n",
    "          count += 1 \n",
    "  return count"
   ],
   "outputs": [],
   "metadata": {}
  },
  {
   "cell_type": "code",
   "execution_count": null,
   "source": [
    "def count_sheeps(a):\n",
    "    t = 0\n",
    "    for i in a:\n",
    "        if i == True:\n",
    "            t += 1\n",
    "    return t"
   ],
   "outputs": [],
   "metadata": {}
  },
  {
   "cell_type": "code",
   "execution_count": null,
   "source": [
    "def count_sheeps(sheep):\n",
    "  return len([x for x in sheep if x])"
   ],
   "outputs": [],
   "metadata": {}
  }
 ],
 "metadata": {
  "orig_nbformat": 4,
  "language_info": {
   "name": "python",
   "version": "3.9.7",
   "mimetype": "text/x-python",
   "codemirror_mode": {
    "name": "ipython",
    "version": 3
   },
   "pygments_lexer": "ipython3",
   "nbconvert_exporter": "python",
   "file_extension": ".py"
  },
  "kernelspec": {
   "name": "python3",
   "display_name": "Python 3.9.7 64-bit"
  },
  "interpreter": {
   "hash": "7d6993cb2f9ce9a59d5d7380609d9cb5192a9dedd2735a011418ad9e827eb538"
  }
 },
 "nbformat": 4,
 "nbformat_minor": 2
}