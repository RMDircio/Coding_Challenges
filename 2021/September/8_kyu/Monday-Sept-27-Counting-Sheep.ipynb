{
 "cells": [
  {
   "cell_type": "markdown",
   "source": [
    "# [Codewars](https://www.codewars.com/kata/54edbc7200b811e956000556/train/python)\n",
    "\n",
    "- Fundamentals\n",
    "- Arrays\n"
   ],
   "metadata": {}
  },
  {
   "cell_type": "markdown",
   "source": [
    "# Counting Sheep...\n",
    "> <br>\n",
    ">\n",
    ">Consider an array/list of sheep where some sheep may be missing from their place.\n",
    ">\n",
    "> We need a function that counts the number of sheep present in the array (true means present).\n",
    ">\n",
    "> **Examples**<br>\n",
    ">\n",
    ">>`[True,  True,  True,  False,`<br>\n",
    ">>  &nbsp; `True,  True,  True,  True ,`<br>\n",
    ">>  &nbsp; `True,  False, True,  False,`<br>\n",
    ">>  &nbsp; `True,  False, False, True ,`<br>\n",
    ">>  &nbsp; `True,  True,  True,  True ,`<br>\n",
    ">>  &nbsp; `False, False, True,  True]`\n",
    "> <br>\n",
    ">\n",
    ">The correct answer would be 17.\n",
    ">\n",
    ">Hint: Don't forget to check for bad values like null/undefined\n",
    ">\n",
    "> <br>"
   ],
   "metadata": {}
  },
  {
   "cell_type": "code",
   "execution_count": null,
   "source": [
    "# Tests\n",
    "\n",
    "array1 = [True,  True,  True,  False,\n",
    "          True,  True,  True,  True ,\n",
    "          True,  False, True,  False,\n",
    "          True,  False, False, True ,\n",
    "          True,  True,  True,  True ,\n",
    "          False, False, True,  True ];\n",
    "              \n",
    "test.assert_equals(result := count_sheeps(array1), 17, \"There are 17 sheeps in total, not %s\" % result)"
   ],
   "outputs": [],
   "metadata": {}
  },
  {
   "cell_type": "markdown",
   "source": [
    "# My Solution\n",
    "\n",
    "### My Understanding\n",
    "\n",
    "\n"
   ],
   "metadata": {}
  },
  {
   "cell_type": "code",
   "execution_count": null,
   "source": [
    "def count_sheeps(sheep):\n",
    "  # TODO May the force be with you\n",
    "  pass"
   ],
   "outputs": [],
   "metadata": {}
  },
  {
   "cell_type": "code",
   "execution_count": null,
   "source": [
    "array1 = [True,  True,  True,  False,\n",
    "          True,  True,  True,  True ,\n",
    "          True,  False, True,  False,\n",
    "          True,  False, False, True ,\n",
    "          True,  True,  True,  True ,\n",
    "          False, False, True,  True ];\n",
    "              \n",
    "test.assert_equals(result := count_sheeps(array1), 17, \"There are 17 sheeps in total, not %s\" % result)"
   ],
   "outputs": [],
   "metadata": {}
  },
  {
   "cell_type": "markdown",
   "source": [
    "# Other Solutions"
   ],
   "metadata": {}
  },
  {
   "cell_type": "code",
   "execution_count": null,
   "source": [],
   "outputs": [],
   "metadata": {}
  },
  {
   "cell_type": "code",
   "execution_count": null,
   "source": [],
   "outputs": [],
   "metadata": {}
  },
  {
   "cell_type": "code",
   "execution_count": null,
   "source": [],
   "outputs": [],
   "metadata": {}
  }
 ],
 "metadata": {
  "orig_nbformat": 4,
  "language_info": {
   "name": "python",
   "version": "3.9.7"
  },
  "kernelspec": {
   "name": "python3",
   "display_name": "Python 3.9.7 64-bit"
  },
  "interpreter": {
   "hash": "7d6993cb2f9ce9a59d5d7380609d9cb5192a9dedd2735a011418ad9e827eb538"
  }
 },
 "nbformat": 4,
 "nbformat_minor": 2
}