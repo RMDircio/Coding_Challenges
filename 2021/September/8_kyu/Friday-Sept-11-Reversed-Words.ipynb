{
 "cells": [
  {
   "cell_type": "markdown",
   "source": [
    "# [Codewars](https://www.codewars.com/kata/51c8991dee245d7ddf00000e/train/python)\n",
    "\n",
    "- Algorithms\n",
    "- Strings"
   ],
   "metadata": {}
  },
  {
   "cell_type": "markdown",
   "source": [
    "## Reversed Words"
   ],
   "metadata": {}
  },
  {
   "cell_type": "markdown",
   "source": [
    ">Complete the solution so that it reverses all of the words within the string passed in.\n",
    ">\n",
    "> Example:\n",
    "\n",
    "`\"The greatest victory is that which requires no battle\" ==> \"battle no requires which that is victory greatest The\"`"
   ],
   "metadata": {}
  },
  {
   "cell_type": "code",
   "execution_count": null,
   "source": [
    "# Tests\n",
    "\n",
    "import codewars_test as test\n",
    "\n",
    "try:\n",
    "    from solution import reverseWords as reverse_words\n",
    "except ImportError:\n",
    "    from solution import reverse_words\n",
    "\n",
    "@test.describe(\"Fixed Tests\")\n",
    "def fixed_tests():\n",
    "    @test.it(\"Basic Tests\")\n",
    "    def basic_tests():\n",
    "        test.assert_equals(reverse_words(\"hello world!\"), \"world! hello\")"
   ],
   "outputs": [],
   "metadata": {}
  },
  {
   "cell_type": "markdown",
   "source": [
    "# My Solution\n",
    "\n",
    "## My understanding\n",
    "I will be given a string of multiple words. I need to sort them so the returned backwards. \n",
    "I wonder if I can do this in a similar mannar as the Reversed Strings problem.\n",
    "\n",
    "- [x] Create empty string\n",
    "- [x] Concat the strings into the empty string placeholder\n",
    "- [x] Return the string placeholder<br>\n",
    "------- Need a For Loop here<br>\n",
    "------- The loop adds 11 extra outputs..? All are not reversed (I was += s, not 'word')<br>\n",
    "------- The loop reverses each character as well - I might need to .split() on white space (this works)<br>\n",
    "------- The returned output does not have correct spacing (Concat am empty space)<br>\n",
    "------- Have an extra empty space at the end of the string (Sliced the output to include everythin expect the last element)<br>\n",
    "- [x] Return the correct string placeholder\n"
   ],
   "metadata": {}
  },
  {
   "cell_type": "code",
   "execution_count": 29,
   "source": [
    "def reverse_words(s):\n",
    "    # empty string\n",
    "    string_placeholder = ''\n",
    "    # split the string on white space\n",
    "    s = s.split(' ')\n",
    "    \n",
    "    # loop through the words\n",
    "    for word in reversed(s):\n",
    "        string_placeholder += word + ' ' # add a space\n",
    "    # return all but the last element (the extra last space)\n",
    "    return string_placeholder[:-1]"
   ],
   "outputs": [],
   "metadata": {}
  },
  {
   "cell_type": "code",
   "execution_count": 30,
   "source": [
    "reverse_words(\"hello world!\")"
   ],
   "outputs": [
    {
     "output_type": "stream",
     "name": "stdout",
     "text": [
      "['hello', 'world!']\n"
     ]
    },
    {
     "output_type": "execute_result",
     "data": {
      "text/plain": [
       "'world! hello'"
      ]
     },
     "metadata": {},
     "execution_count": 30
    }
   ],
   "metadata": {}
  },
  {
   "cell_type": "code",
   "execution_count": 13,
   "source": [
    "reverse_words('')"
   ],
   "outputs": [
    {
     "output_type": "execute_result",
     "data": {
      "text/plain": [
       "''"
      ]
     },
     "metadata": {},
     "execution_count": 13
    }
   ],
   "metadata": {}
  },
  {
   "cell_type": "markdown",
   "source": [
    "# Other Solutions"
   ],
   "metadata": {}
  },
  {
   "cell_type": "code",
   "execution_count": null,
   "source": [
    "def reverseWords(str):\n",
    "    return \" \".join(str.split(\" \")[::-1])"
   ],
   "outputs": [],
   "metadata": {}
  },
  {
   "cell_type": "code",
   "execution_count": null,
   "source": [
    "def reverseWords(str):\n",
    "    return ' '.join(reversed(str.split(' ')))"
   ],
   "outputs": [],
   "metadata": {}
  },
  {
   "cell_type": "code",
   "execution_count": null,
   "source": [
    "def reverseWords(str):\n",
    "    k = str.split(' ')\n",
    "    k.reverse()\n",
    "    str = ' '.join(k)\n",
    "    return str"
   ],
   "outputs": [],
   "metadata": {}
  },
  {
   "cell_type": "code",
   "execution_count": null,
   "source": [
    "reverseWords = lambda _:' '.join(_.split(' ')[::-1])"
   ],
   "outputs": [],
   "metadata": {}
  },
  {
   "cell_type": "code",
   "execution_count": null,
   "source": [
    "def reverseWords(str):\n",
    "    new_arr = []\n",
    "    for word in str.split():\n",
    "        new_arr.append(word)\n",
    "    new_arr.reverse()   \n",
    "    return ' '.join(new_arr)"
   ],
   "outputs": [],
   "metadata": {}
  },
  {
   "cell_type": "code",
   "execution_count": null,
   "source": [
    "def reverseWords(str):\n",
    "   str_split = str.split()\n",
    "   rev_words = []\n",
    "    \n",
    "   for i in range(len(str_split)-1,-1,-1):\n",
    "       rev_words.append(str_split[i])\n",
    "    \n",
    "   return ' '.join(rev_words)"
   ],
   "outputs": [],
   "metadata": {}
  }
 ],
 "metadata": {
  "orig_nbformat": 4,
  "language_info": {
   "name": "python",
   "version": "3.9.7",
   "mimetype": "text/x-python",
   "codemirror_mode": {
    "name": "ipython",
    "version": 3
   },
   "pygments_lexer": "ipython3",
   "nbconvert_exporter": "python",
   "file_extension": ".py"
  },
  "kernelspec": {
   "name": "python3",
   "display_name": "Python 3.9.7 64-bit"
  },
  "interpreter": {
   "hash": "7d6993cb2f9ce9a59d5d7380609d9cb5192a9dedd2735a011418ad9e827eb538"
  }
 },
 "nbformat": 4,
 "nbformat_minor": 2
}