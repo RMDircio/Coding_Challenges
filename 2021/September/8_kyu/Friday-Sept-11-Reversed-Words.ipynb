{
 "cells": [
  {
   "cell_type": "markdown",
   "source": [
    "# [Codewars](https://www.codewars.com/kata/51c8991dee245d7ddf00000e/train/python)\n",
    "\n",
    "- Algorithms\n",
    "- Strings"
   ],
   "metadata": {}
  },
  {
   "cell_type": "markdown",
   "source": [
    "## Reversed Words"
   ],
   "metadata": {}
  },
  {
   "cell_type": "markdown",
   "source": [
    ">Complete the solution so that it reverses all of the words within the string passed in.\n",
    ">\n",
    "> Example:\n",
    "\n",
    "`\"The greatest victory is that which requires no battle\" ==> \"battle no requires which that is victory greatest The\"`"
   ],
   "metadata": {}
  },
  {
   "cell_type": "code",
   "execution_count": null,
   "source": [
    "# Tests\n",
    "\n",
    "import codewars_test as test\n",
    "\n",
    "try:\n",
    "    from solution import reverseWords as reverse_words\n",
    "except ImportError:\n",
    "    from solution import reverse_words\n",
    "\n",
    "@test.describe(\"Fixed Tests\")\n",
    "def fixed_tests():\n",
    "    @test.it(\"Basic Tests\")\n",
    "    def basic_tests():\n",
    "        test.assert_equals(reverse_words(\"hello world!\"), \"world! hello\")"
   ],
   "outputs": [],
   "metadata": {}
  },
  {
   "cell_type": "markdown",
   "source": [
    "# My Solution\n",
    "\n",
    "## My understanding\n",
    "\n"
   ],
   "metadata": {}
  }
 ],
 "metadata": {
  "orig_nbformat": 4,
  "language_info": {
   "name": "python",
   "version": "3.9.7"
  },
  "kernelspec": {
   "name": "python3",
   "display_name": "Python 3.9.7 64-bit"
  },
  "interpreter": {
   "hash": "7d6993cb2f9ce9a59d5d7380609d9cb5192a9dedd2735a011418ad9e827eb538"
  }
 },
 "nbformat": 4,
 "nbformat_minor": 2
}