{
    "cells": [
        {
            "cell_type": "markdown",
            "source": [
                "# [Codewars](https://www.codewars.com/kata/515e271a311df0350d00000f)\r\n",
                "- 8 Kyu\r\n",
                "- Python\r\n",
                "- Fundamentals\r\n",
                "- Arithmetic\r\n",
                "- Mathematics\r\n",
                "- Algorithms\r\n",
                "- Numbers\r\n",
                "- Arrays\r\n",
                "- Lists\r\n",
                "- Data Structures"
            ],
            "metadata": {}
        },
        {
            "cell_type": "markdown",
            "source": [
                "# Square(n) Sum\r\n",
                "\r\n",
                ">Complete the square sum function so that it squares each number passed into it and then sums the results together.\r\n",
                ">\r\n",
                ">For example, for `[1, 2, 2]` it should return `9` because `1^2 + 2^2 + 2^2 = 9`\r\n",
                ">"
            ],
            "metadata": {}
        },
        {
            "cell_type": "code",
            "execution_count": 2,
            "source": [
                "def square_sum(numbers):\r\n",
                "    #your code here"
            ],
            "outputs": [
                {
                    "output_type": "error",
                    "ename": "IndentationError",
                    "evalue": "expected an indented block (Temp/ipykernel_17204/998433464.py, line 2)",
                    "traceback": [
                        "\u001b[1;36m  File \u001b[1;32m\"C:\\Users\\regin\\AppData\\Local\\Temp/ipykernel_17204/998433464.py\"\u001b[1;36m, line \u001b[1;32m2\u001b[0m\n\u001b[1;33m    #your code here\u001b[0m\n\u001b[1;37m                   ^\u001b[0m\n\u001b[1;31mIndentationError\u001b[0m\u001b[1;31m:\u001b[0m expected an indented block\n"
                    ]
                }
            ],
            "metadata": {}
        },
        {
            "cell_type": "code",
            "execution_count": null,
            "source": [
                "import codewars_test as test\r\n",
                "from solution import square_sum\r\n",
                "\r\n",
                "@test.describe(\"Fixed Tests\")\r\n",
                "def basic_tests():\r\n",
                "    @test.it('Basic Test Cases')\r\n",
                "    def basic_test_cases():\r\n",
                "        test.assert_equals(square_sum([1,2]), 5)\r\n",
                "        test.assert_equals(square_sum([0, 3, 4, 5]), 50)\r\n",
                "        test.assert_equals(square_sum([]), 0)\r\n",
                "        test.assert_equals(square_sum([-1,-2]), 5)\r\n",
                "        test.assert_equals(square_sum([-1,0,1]), 2)"
            ],
            "outputs": [],
            "metadata": {}
        },
        {
            "cell_type": "markdown",
            "source": [
                "# My Solution\n",
                "\n",
                "## My Understanding"
            ],
            "metadata": {}
        },
        {
            "cell_type": "markdown",
            "source": [
                "I will be given a list of numbers. I need to square each one. The total of the new squared numbers is also needed.<br>\r\n",
                "I know numpy has a squared function. Doubt I can import that library.<br>There should be a simple mathmatical way I\r\n",
                "can get the square of a number. I will need a empty list to put the new squared numbers in.<br>I believe I can use the \r\n",
                "`sum()` function to get the total of the new list. \r\n",
                "\r\n",
                "### First Attempt\r\n",
                "- [X] Create an empty list\r\n",
                "- [X] Add the given number to the list\r\n",
                "- [X] Square each given number\r\n",
                "- [X] Get the total of the new list"
            ],
            "metadata": {}
        },
        {
            "cell_type": "code",
            "execution_count": 37,
            "source": [
                "def square_sum(numbers):\r\n",
                "    new_list = []\r\n",
                "    # check if the list given is empty\r\n",
                "    if len(numbers) == 0:\r\n",
                "        return 0\r\n",
                "\r\n",
                "    # if the list is not empty\r\n",
                "    else:\r\n",
                "        for num in numbers:\r\n",
                "            # square the number\r\n",
                "            square_num = num**2\r\n",
                "            new_list.append(square_num)\r\n",
                "            # get the list total\r\n",
                "            total = sum(new_list)\r\n",
                "        return total"
            ],
            "outputs": [],
            "metadata": {}
        },
        {
            "cell_type": "code",
            "execution_count": 38,
            "source": [
                "square_sum([1,2])"
            ],
            "outputs": [
                {
                    "output_type": "execute_result",
                    "data": {
                        "text/plain": [
                            "5"
                        ]
                    },
                    "metadata": {},
                    "execution_count": 38
                }
            ],
            "metadata": {}
        },
        {
            "cell_type": "code",
            "execution_count": 39,
            "source": [
                "square_sum([0, 3, 4, 5])"
            ],
            "outputs": [
                {
                    "output_type": "execute_result",
                    "data": {
                        "text/plain": [
                            "50"
                        ]
                    },
                    "metadata": {},
                    "execution_count": 39
                }
            ],
            "metadata": {}
        },
        {
            "cell_type": "code",
            "execution_count": 40,
            "source": [
                "square_sum([])"
            ],
            "outputs": [
                {
                    "output_type": "execute_result",
                    "data": {
                        "text/plain": [
                            "0"
                        ]
                    },
                    "metadata": {},
                    "execution_count": 40
                }
            ],
            "metadata": {}
        },
        {
            "cell_type": "code",
            "execution_count": 41,
            "source": [
                "square_sum([-1,-2])"
            ],
            "outputs": [
                {
                    "output_type": "execute_result",
                    "data": {
                        "text/plain": [
                            "5"
                        ]
                    },
                    "metadata": {},
                    "execution_count": 41
                }
            ],
            "metadata": {}
        },
        {
            "cell_type": "code",
            "execution_count": 42,
            "source": [
                "square_sum([-1,0,1])"
            ],
            "outputs": [
                {
                    "output_type": "execute_result",
                    "data": {
                        "text/plain": [
                            "2"
                        ]
                    },
                    "metadata": {},
                    "execution_count": 42
                }
            ],
            "metadata": {}
        },
        {
            "cell_type": "markdown",
            "source": [
                "# Other Solutions"
            ],
            "metadata": {}
        },
        {
            "cell_type": "code",
            "execution_count": null,
            "source": [
                "def square_sum(numbers):\r\n",
                "    return sum(x ** 2 for x in numbers)"
            ],
            "outputs": [],
            "metadata": {}
        },
        {
            "cell_type": "code",
            "execution_count": null,
            "source": [
                "def square_sum(numbers):\r\n",
                "    return sum([i * i for i in numbers])"
            ],
            "outputs": [],
            "metadata": {}
        }
    ],
    "metadata": {
        "orig_nbformat": 4,
        "language_info": {
            "name": "python",
            "version": "3.9.1",
            "mimetype": "text/x-python",
            "codemirror_mode": {
                "name": "ipython",
                "version": 3
            },
            "pygments_lexer": "ipython3",
            "nbconvert_exporter": "python",
            "file_extension": ".py"
        },
        "kernelspec": {
            "name": "python3",
            "display_name": "Python 3.9.1 64-bit"
        },
        "interpreter": {
            "hash": "ac59ebe37160ed0dfa835113d9b8498d9f09ceb179beaac4002f036b9467c963"
        }
    },
    "nbformat": 4,
    "nbformat_minor": 2
}