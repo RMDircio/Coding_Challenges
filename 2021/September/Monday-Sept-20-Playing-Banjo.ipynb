{
 "cells": [
  {
   "cell_type": "markdown",
   "source": [
    "# [Codewars](https://www.codewars.com/kata/53af2b8861023f1d88000832/train/python)\n",
    "\n",
    "- Fundamentals\n",
    "- Strings\n",
    "- Functions\n",
    "- Control Flow\n",
    "- Basic Language Features"
   ],
   "metadata": {}
  },
  {
   "cell_type": "markdown",
   "source": [
    "# Are you Playing Banjo?\n",
    "\n",
    "> <br>\n",
    ">Create a function which answers the question \"Are you playing banjo?\".<br>\n",
    ">\n",
    "> If your name starts with the letter \"R\" or lower case \"r\", you are playing banjo!<br>\n",
    ">\n",
    ">The function takes a name (always valid strings) as its only argument, and returns one of the following strings:<br>\n",
    "><br>\n",
    "`name + \" plays banjo\"`<br>\n",
    "`name + \" does not play banjo\"`<br>\n",
    "><br>\n"
   ],
   "metadata": {}
  },
  {
   "cell_type": "code",
   "execution_count": null,
   "source": [
    "# Test\n",
    "\n",
    "import codewars_test as test\n",
    "\n",
    "try:\n",
    "    from solution import areYouPlayingBanjo as are_you_playing_banjo\n",
    "except ImportError:\n",
    "    from solution import are_you_playing_banjo\n",
    "    \n",
    "\n",
    "@test.describe(\"Fixed Tests\")\n",
    "def basic_tests():\n",
    "    @test.it('Basic Test Cases')\n",
    "    def basic_test_cases():\n",
    "        test.assert_equals(are_you_playing_banjo(\"martin\"), \"martin does not play banjo\");\n",
    "        test.assert_equals(are_you_playing_banjo(\"Rikke\"), \"Rikke plays banjo\");"
   ],
   "outputs": [],
   "metadata": {}
  },
  {
   "cell_type": "markdown",
   "source": [
    "# My Solution\n",
    "\n",
    "### My Understanding\n",
    "\n",
    "I will be given a string. Based on the first letter of that string, will be the return statement. \n",
    "I believe an If statement will work here.\n",
    "\n",
    "- [] Create If statement for when true\n",
    "------- Realized I need to set the index for `name = 'R'` \n",
    "- [] Else statement when false"
   ],
   "metadata": {}
  },
  {
   "cell_type": "code",
   "execution_count": 4,
   "source": [
    "def are_you_playing_banjo(name):\n",
    "    # if statement for 'r'\n",
    "    \n",
    "    if name[0] == 'R' or name[0] == 'r':\n",
    "        return f'{name} plays banjo'\n",
    "    \n",
    "    else:\n",
    "        return f'{name} does not play banjo'"
   ],
   "outputs": [],
   "metadata": {}
  },
  {
   "cell_type": "code",
   "execution_count": 5,
   "source": [
    "are_you_playing_banjo(\"martin\")"
   ],
   "outputs": [
    {
     "output_type": "execute_result",
     "data": {
      "text/plain": [
       "'martin does not play banjo'"
      ]
     },
     "metadata": {},
     "execution_count": 5
    }
   ],
   "metadata": {}
  },
  {
   "cell_type": "code",
   "execution_count": 6,
   "source": [
    "are_you_playing_banjo(\"Rikke\")"
   ],
   "outputs": [
    {
     "output_type": "execute_result",
     "data": {
      "text/plain": [
       "'Rikke plays banjo'"
      ]
     },
     "metadata": {},
     "execution_count": 6
    }
   ],
   "metadata": {}
  },
  {
   "cell_type": "code",
   "execution_count": 7,
   "source": [
    "are_you_playing_banjo(\"\")"
   ],
   "outputs": [
    {
     "output_type": "error",
     "ename": "IndexError",
     "evalue": "string index out of range",
     "traceback": [
      "\u001b[0;31m---------------------------------------------------------------------------\u001b[0m",
      "\u001b[0;31mIndexError\u001b[0m                                Traceback (most recent call last)",
      "\u001b[0;32m/tmp/ipykernel_73322/3732042234.py\u001b[0m in \u001b[0;36m<module>\u001b[0;34m\u001b[0m\n\u001b[0;32m----> 1\u001b[0;31m \u001b[0mare_you_playing_banjo\u001b[0m\u001b[0;34m(\u001b[0m\u001b[0;34m\"\"\u001b[0m\u001b[0;34m)\u001b[0m\u001b[0;34m\u001b[0m\u001b[0;34m\u001b[0m\u001b[0m\n\u001b[0m",
      "\u001b[0;32m/tmp/ipykernel_73322/2563576337.py\u001b[0m in \u001b[0;36mare_you_playing_banjo\u001b[0;34m(name)\u001b[0m\n\u001b[1;32m      2\u001b[0m     \u001b[0;31m# if statement for 'r'\u001b[0m\u001b[0;34m\u001b[0m\u001b[0;34m\u001b[0m\u001b[0m\n\u001b[1;32m      3\u001b[0m \u001b[0;34m\u001b[0m\u001b[0m\n\u001b[0;32m----> 4\u001b[0;31m     \u001b[0;32mif\u001b[0m \u001b[0mname\u001b[0m\u001b[0;34m[\u001b[0m\u001b[0;36m0\u001b[0m\u001b[0;34m]\u001b[0m \u001b[0;34m==\u001b[0m \u001b[0;34m'R'\u001b[0m \u001b[0;32mor\u001b[0m \u001b[0mname\u001b[0m\u001b[0;34m[\u001b[0m\u001b[0;36m0\u001b[0m\u001b[0;34m]\u001b[0m \u001b[0;34m==\u001b[0m \u001b[0;34m'r'\u001b[0m\u001b[0;34m:\u001b[0m\u001b[0;34m\u001b[0m\u001b[0;34m\u001b[0m\u001b[0m\n\u001b[0m\u001b[1;32m      5\u001b[0m         \u001b[0;32mreturn\u001b[0m \u001b[0;34mf'{name} plays banjo'\u001b[0m\u001b[0;34m\u001b[0m\u001b[0;34m\u001b[0m\u001b[0m\n\u001b[1;32m      6\u001b[0m \u001b[0;34m\u001b[0m\u001b[0m\n",
      "\u001b[0;31mIndexError\u001b[0m: string index out of range"
     ]
    }
   ],
   "metadata": {}
  },
  {
   "cell_type": "markdown",
   "source": [
    "# Other Solutions"
   ],
   "metadata": {}
  },
  {
   "cell_type": "code",
   "execution_count": null,
   "source": [],
   "outputs": [],
   "metadata": {}
  },
  {
   "cell_type": "code",
   "execution_count": null,
   "source": [],
   "outputs": [],
   "metadata": {}
  },
  {
   "cell_type": "code",
   "execution_count": null,
   "source": [],
   "outputs": [],
   "metadata": {}
  }
 ],
 "metadata": {
  "orig_nbformat": 4,
  "language_info": {
   "name": "python",
   "version": "3.9.7",
   "mimetype": "text/x-python",
   "codemirror_mode": {
    "name": "ipython",
    "version": 3
   },
   "pygments_lexer": "ipython3",
   "nbconvert_exporter": "python",
   "file_extension": ".py"
  },
  "kernelspec": {
   "name": "python3",
   "display_name": "Python 3.9.7 64-bit"
  },
  "interpreter": {
   "hash": "7d6993cb2f9ce9a59d5d7380609d9cb5192a9dedd2735a011418ad9e827eb538"
  }
 },
 "nbformat": 4,
 "nbformat_minor": 2
}