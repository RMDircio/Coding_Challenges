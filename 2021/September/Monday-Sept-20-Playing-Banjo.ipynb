{
 "cells": [
  {
   "cell_type": "markdown",
   "source": [
    "# [Codewars](https://www.codewars.com/kata/53af2b8861023f1d88000832/train/python)\n",
    "\n",
    "- Fundamentals\n",
    "- Strings\n",
    "- Functions\n",
    "- Control Flow\n",
    "- Basic Language Features"
   ],
   "metadata": {}
  },
  {
   "cell_type": "markdown",
   "source": [
    "# Are you Playing Banjo?\n",
    "\n",
    "> <br>\n",
    ">Create a function which answers the question \"Are you playing banjo?\".<br>\n",
    ">\n",
    "> If your name starts with the letter \"R\" or lower case \"r\", you are playing banjo!<br>\n",
    ">\n",
    ">The function takes a name (always valid strings) as its only argument, and returns one of the following strings:<br>\n",
    "><br>\n",
    "`name + \" plays banjo\"`<br>\n",
    "`name + \" does not play banjo\"`<br>\n",
    "><br>\n"
   ],
   "metadata": {}
  },
  {
   "cell_type": "code",
   "execution_count": null,
   "source": [
    "# Test\n",
    "\n",
    "import codewars_test as test\n",
    "\n",
    "try:\n",
    "    from solution import areYouPlayingBanjo as are_you_playing_banjo\n",
    "except ImportError:\n",
    "    from solution import are_you_playing_banjo\n",
    "    \n",
    "\n",
    "@test.describe(\"Fixed Tests\")\n",
    "def basic_tests():\n",
    "    @test.it('Basic Test Cases')\n",
    "    def basic_test_cases():\n",
    "        test.assert_equals(are_you_playing_banjo(\"martin\"), \"martin does not play banjo\");\n",
    "        test.assert_equals(are_you_playing_banjo(\"Rikke\"), \"Rikke plays banjo\");"
   ],
   "outputs": [],
   "metadata": {}
  },
  {
   "cell_type": "markdown",
   "source": [
    "# My Solution\n",
    "\n",
    "### My Understanding"
   ],
   "metadata": {}
  },
  {
   "cell_type": "code",
   "execution_count": null,
   "source": [
    "def are_you_playing_banjo(name):\n",
    "    # Implement me!\n",
    "    return name"
   ],
   "outputs": [],
   "metadata": {}
  },
  {
   "cell_type": "code",
   "execution_count": null,
   "source": [
    "are_you_playing_banjo(\"martin\")"
   ],
   "outputs": [],
   "metadata": {}
  },
  {
   "cell_type": "code",
   "execution_count": null,
   "source": [
    "are_you_playing_banjo(\"Rikke\")"
   ],
   "outputs": [],
   "metadata": {}
  },
  {
   "cell_type": "code",
   "execution_count": null,
   "source": [
    "are_you_playing_banjo(\"\")"
   ],
   "outputs": [],
   "metadata": {}
  },
  {
   "cell_type": "markdown",
   "source": [
    "# Other Solutions"
   ],
   "metadata": {}
  },
  {
   "cell_type": "code",
   "execution_count": null,
   "source": [],
   "outputs": [],
   "metadata": {}
  },
  {
   "cell_type": "code",
   "execution_count": null,
   "source": [],
   "outputs": [],
   "metadata": {}
  },
  {
   "cell_type": "code",
   "execution_count": null,
   "source": [],
   "outputs": [],
   "metadata": {}
  }
 ],
 "metadata": {
  "orig_nbformat": 4,
  "language_info": {
   "name": "python",
   "version": "3.9.7"
  },
  "kernelspec": {
   "name": "python3",
   "display_name": "Python 3.9.7 64-bit"
  },
  "interpreter": {
   "hash": "7d6993cb2f9ce9a59d5d7380609d9cb5192a9dedd2735a011418ad9e827eb538"
  }
 },
 "nbformat": 4,
 "nbformat_minor": 2
}