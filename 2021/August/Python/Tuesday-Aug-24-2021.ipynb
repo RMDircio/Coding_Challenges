{
    "cells": [
        {
            "cell_type": "markdown",
            "source": [
                "# [Codewars](https://www.codewars.com/)\n",
                "- Python\n",
                "- Fundamentals\n"
            ],
            "metadata": {}
        },
        {
            "cell_type": "markdown",
            "source": [
                "## Array.diff\n",
                "Instructuions\n",
                "*Your goal in this kata is to implement a difference function, which subtracts one list from another and returns the result.\n",
                "\n",
                "It should remove all values from list a, which are present in list b keeping their order.*"
            ],
            "metadata": {}
        },
        {
            "cell_type": "markdown",
            "source": [],
            "metadata": {}
        }
    ],
    "metadata": {
        "orig_nbformat": 4,
        "language_info": {
            "name": "python"
        }
    },
    "nbformat": 4,
    "nbformat_minor": 2
}