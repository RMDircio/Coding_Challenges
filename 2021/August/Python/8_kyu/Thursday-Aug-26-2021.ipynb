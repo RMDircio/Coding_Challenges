{
    "cells": [
        {
            "cell_type": "markdown",
            "source": [
                "# [Codewars](https://www.codewars.com/)\r\n",
                "- 8 Kyu\r\n",
                "- Python\r\n",
                "- Fundamentals"
            ],
            "metadata": {}
        },
        {
            "cell_type": "markdown",
            "source": [
                "# Ensure Question\r\n",
                "\r\n",
                ">Given a string, write a function that returns the string with a question mark (\"?\") appends to the end, unless the original string ends with a question mark, in which case, returns the original string.\r\n",
                ">\r\n",
                ">For example (Input --> Output)\r\n",
                ">\r\n",
                "\r\n",
                "![](C:\\Users\\regin\\Documents\\GitHub_Repos\\Coding_Challenges\\2021\\August\\Python\\assets\\question.jpg)\r\n"
            ],
            "metadata": {}
        },
        {
            "cell_type": "code",
            "execution_count": null,
            "source": [
                "# Tests\r\n",
                "\r\n",
                "import codewars_test as test\r\n",
                "from solution import ensure_question\r\n",
                "\r\n",
                "@test.describe(\"Fixed Tests\")\r\n",
                "def fixed_tests():\r\n",
                "    @test.it('Basic Test Cases')\r\n",
                "    def basic_test_cases():\r\n",
                "        test.assert_equals(ensure_question(\"\"),\"?\",\"Expected: '?'\")\r\n",
                "        test.assert_equals(ensure_question(\"Yes\"),\"Yes?\",\"Expected: '?'\")\r\n",
                "        test.assert_equals(ensure_question(\"No?\"),\"No?\",\"Expected: '?'\")"
            ],
            "outputs": [],
            "metadata": {}
        },
        {
            "cell_type": "markdown",
            "source": [
                "# My Soultion\r\n",
                "\r\n",
                "## My understanding\r\n",
                "\r\n",
                "I will be provided a string as an input. I need to run a check to see if the last element is a `?`.<br>\r\n",
                "<br>\r\n",
                "Last element is a `?`\r\n",
                "- return the orginal string<br>\r\n",
                "\r\n",
                "\r\n",
                "Last element is _NOT_ a `?`\r\n",
                "- append a `?` to the end of the string\r\n",
                "- return the new result\r\n",
                "\r\n",
                "First Attempt<br>\r\n",
                "    [x] Just the return the string given<br>\r\n",
                "    [x] Check if there is a `?`<br>\r\n",
                "    [x] Have an else statement<br>\r\n",
                "    [x] Something to catch the empty string<br>"
            ],
            "metadata": {}
        },
        {
            "cell_type": "code",
            "execution_count": 29,
            "source": [
                "def ensure_question(s):\r\n",
                "    # empty string check\r\n",
                "    if len(s) == 0:\r\n",
                "        s = s + '?'\r\n",
                "        return s\r\n",
                "\r\n",
                "    # Check to see if there is a ending `?`\r\n",
                "    if s[-1] == \"?\":\r\n",
                "        return s\r\n",
                "    \r\n",
                "    # if there is no `?`\r\n",
                "    else:\r\n",
                "        s = s + '?'\r\n",
                "        return s"
            ],
            "outputs": [],
            "metadata": {}
        },
        {
            "cell_type": "code",
            "execution_count": 30,
            "source": [
                "ensure_question(\"\")"
            ],
            "outputs": [
                {
                    "output_type": "execute_result",
                    "data": {
                        "text/plain": [
                            "'?'"
                        ]
                    },
                    "metadata": {},
                    "execution_count": 30
                }
            ],
            "metadata": {}
        },
        {
            "cell_type": "code",
            "execution_count": 31,
            "source": [
                "ensure_question(\"Yes\")"
            ],
            "outputs": [
                {
                    "output_type": "execute_result",
                    "data": {
                        "text/plain": [
                            "'Yes?'"
                        ]
                    },
                    "metadata": {},
                    "execution_count": 31
                }
            ],
            "metadata": {}
        },
        {
            "cell_type": "code",
            "execution_count": 32,
            "source": [
                "ensure_question(\"No?\")"
            ],
            "outputs": [
                {
                    "output_type": "execute_result",
                    "data": {
                        "text/plain": [
                            "'No?'"
                        ]
                    },
                    "metadata": {},
                    "execution_count": 32
                }
            ],
            "metadata": {}
        },
        {
            "cell_type": "markdown",
            "source": [
                "# Other Solutions\r\n"
            ],
            "metadata": {}
        },
        {
            "cell_type": "code",
            "execution_count": null,
            "source": [
                "def ensure_question(s):\r\n",
                "    return s.rstrip('?') + '?'"
            ],
            "outputs": [],
            "metadata": {}
        },
        {
            "cell_type": "code",
            "execution_count": null,
            "source": [
                "def ensure_question(s):\r\n",
                "    if not s.endswith(\"?\"):\r\n",
                "        return s + \"?\"\r\n",
                "    return s"
            ],
            "outputs": [],
            "metadata": {}
        },
        {
            "cell_type": "code",
            "execution_count": null,
            "source": [
                "ensure_question=lambda s:s+\"?\"*(not'?'in s)"
            ],
            "outputs": [],
            "metadata": {}
        },
        {
            "cell_type": "code",
            "execution_count": null,
            "source": [
                "def ensure_question(s):\r\n",
                "    return s + '?' if '?' not in s else s"
            ],
            "outputs": [],
            "metadata": {}
        },
        {
            "cell_type": "code",
            "execution_count": null,
            "source": [
                "def ensure_question(s):\r\n",
                "    return f'{s}?'.replace('??', '?')"
            ],
            "outputs": [],
            "metadata": {}
        }
    ],
    "metadata": {
        "orig_nbformat": 4,
        "language_info": {
            "name": "python",
            "version": "3.9.1",
            "mimetype": "text/x-python",
            "codemirror_mode": {
                "name": "ipython",
                "version": 3
            },
            "pygments_lexer": "ipython3",
            "nbconvert_exporter": "python",
            "file_extension": ".py"
        },
        "kernelspec": {
            "name": "python3",
            "display_name": "Python 3.9.1 64-bit"
        },
        "interpreter": {
            "hash": "ac59ebe37160ed0dfa835113d9b8498d9f09ceb179beaac4002f036b9467c963"
        }
    },
    "nbformat": 4,
    "nbformat_minor": 2
}