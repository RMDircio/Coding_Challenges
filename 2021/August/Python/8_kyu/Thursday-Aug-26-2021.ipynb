{
    "cells": [
        {
            "cell_type": "markdown",
            "source": [
                "# [Codewars](https://www.codewars.com/)\r\n",
                "- 8 Kyu\r\n",
                "- Python\r\n",
                "- Fundamentals"
            ],
            "metadata": {}
        },
        {
            "cell_type": "markdown",
            "source": [
                "# Ensure Question\r\n",
                "\r\n",
                ">Given a string, write a function that returns the string with a question mark (\"?\") appends to the end, unless the original string ends with a question mark, in which case, returns the original string.\r\n",
                ">\r\n",
                ">For example (Input --> Output)\r\n",
                ">\r\n",
                "\r\n",
                "![](C:\\Users\\regin\\Documents\\GitHub_Repos\\Coding_Challenges\\2021\\August\\Python\\assets\\question.jpg)\r\n"
            ],
            "metadata": {}
        },
        {
            "cell_type": "code",
            "execution_count": null,
            "source": [
                "# Tests\r\n",
                "\r\n",
                "import codewars_test as test\r\n",
                "from solution import find_multiples\r\n",
                "\r\n",
                "@test.describe(\"Fixed Tests\")\r\n",
                "def fixed_tests():\r\n",
                "    @test.it('Basic Test Cases')\r\n",
                "    def basic_test_cases():\r\n",
                "        test.assert_equals(find_multiples(5, 25), [5, 10, 15, 20, 25])\r\n",
                "        test.assert_equals(find_multiples(1, 2), [1, 2])"
            ],
            "outputs": [],
            "metadata": {}
        }
    ],
    "metadata": {
        "orig_nbformat": 4,
        "language_info": {
            "name": "python",
            "version": "3.9.1"
        },
        "kernelspec": {
            "name": "python3",
            "display_name": "Python 3.9.1 64-bit"
        },
        "interpreter": {
            "hash": "ac59ebe37160ed0dfa835113d9b8498d9f09ceb179beaac4002f036b9467c963"
        }
    },
    "nbformat": 4,
    "nbformat_minor": 2
}