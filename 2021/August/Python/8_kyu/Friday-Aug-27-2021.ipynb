{
    "cells": [
        {
            "cell_type": "markdown",
            "source": [
                "# [Codewars](https://www.codewars.com/)\r\n",
                "- 8 Kyu\r\n",
                "- Python\r\n",
                "- Fundamentals\r\n",
                "- Arithmetic\r\n",
                "- Mathematics\r\n",
                "- Algorithms\r\n",
                "- Numbers\r\n",
                "- Arrays\r\n",
                "- Lists\r\n",
                "- Data Structures"
            ],
            "metadata": {}
        },
        {
            "cell_type": "markdown",
            "source": [
                "# Square(n) Sum\r\n",
                "\r\n",
                ">Complete the square sum function so that it squares each number passed into it and then sums the results together.\r\n",
                ">\r\n",
                ">For example, for `[1, 2, 2]` it should return `9` because `1^2 + 2^2 + 2^2 = 9`\r\n",
                ">"
            ],
            "metadata": {}
        },
        {
            "cell_type": "code",
            "execution_count": 2,
            "source": [
                "def square_sum(numbers):\r\n",
                "    #your code here"
            ],
            "outputs": [
                {
                    "output_type": "error",
                    "ename": "IndentationError",
                    "evalue": "expected an indented block (Temp/ipykernel_17204/998433464.py, line 2)",
                    "traceback": [
                        "\u001b[1;36m  File \u001b[1;32m\"C:\\Users\\regin\\AppData\\Local\\Temp/ipykernel_17204/998433464.py\"\u001b[1;36m, line \u001b[1;32m2\u001b[0m\n\u001b[1;33m    #your code here\u001b[0m\n\u001b[1;37m                   ^\u001b[0m\n\u001b[1;31mIndentationError\u001b[0m\u001b[1;31m:\u001b[0m expected an indented block\n"
                    ]
                }
            ],
            "metadata": {}
        },
        {
            "cell_type": "code",
            "execution_count": null,
            "source": [],
            "outputs": [],
            "metadata": {}
        }
    ],
    "metadata": {
        "orig_nbformat": 4,
        "language_info": {
            "name": "python",
            "version": "3.9.1",
            "mimetype": "text/x-python",
            "codemirror_mode": {
                "name": "ipython",
                "version": 3
            },
            "pygments_lexer": "ipython3",
            "nbconvert_exporter": "python",
            "file_extension": ".py"
        },
        "kernelspec": {
            "name": "python3",
            "display_name": "Python 3.9.1 64-bit"
        },
        "interpreter": {
            "hash": "ac59ebe37160ed0dfa835113d9b8498d9f09ceb179beaac4002f036b9467c963"
        }
    },
    "nbformat": 4,
    "nbformat_minor": 2
}