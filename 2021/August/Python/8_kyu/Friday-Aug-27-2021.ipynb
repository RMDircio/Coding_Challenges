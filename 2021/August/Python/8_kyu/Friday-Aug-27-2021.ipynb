{
    "cells": [
        {
            "cell_type": "markdown",
            "source": [
                "# [Codewars](https://www.codewars.com/)\r\n",
                "- 8 Kyu\r\n",
                "- Python\r\n",
                "- Fundamentals\r\n",
                "- Arithmetic\r\n",
                "- Mathematics\r\n",
                "- Algorithms\r\n",
                "- Numbers\r\n",
                "- Arrays\r\n",
                "- Lists\r\n",
                "- Data Structures"
            ],
            "metadata": {}
        },
        {
            "cell_type": "markdown",
            "source": [
                "# Square(n) Sum\r\n",
                "\r\n",
                ">Complete the square sum function so that it squares each number passed into it and then sums the results together.\r\n",
                ">\r\n",
                ">For example, for `[1, 2, 2]` it should return `9` because `1^2 + 2^2 + 2^2 = 9`\r\n",
                ">"
            ],
            "metadata": {}
        },
        {
            "cell_type": "code",
            "execution_count": 2,
            "source": [
                "def square_sum(numbers):\n",
                "    #your code here"
            ],
            "outputs": [
                {
                    "output_type": "error",
                    "ename": "IndentationError",
                    "evalue": "expected an indented block (Temp/ipykernel_17204/998433464.py, line 2)",
                    "traceback": [
                        "\u001b[1;36m  File \u001b[1;32m\"C:\\Users\\regin\\AppData\\Local\\Temp/ipykernel_17204/998433464.py\"\u001b[1;36m, line \u001b[1;32m2\u001b[0m\n\u001b[1;33m    #your code here\u001b[0m\n\u001b[1;37m                   ^\u001b[0m\n\u001b[1;31mIndentationError\u001b[0m\u001b[1;31m:\u001b[0m expected an indented block\n"
                    ]
                }
            ],
            "metadata": {}
        },
        {
            "cell_type": "code",
            "execution_count": null,
            "source": [
                "import codewars_test as test\n",
                "from solution import square_sum\n",
                "\n",
                "@test.describe(\"Fixed Tests\")\n",
                "def basic_tests():\n",
                "    @test.it('Basic Test Cases')\n",
                "    def basic_test_cases():\n",
                "        test.assert_equals(square_sum([1,2]), 5)\n",
                "        test.assert_equals(square_sum([0, 3, 4, 5]), 50)\n",
                "        test.assert_equals(square_sum([]), 0)\n",
                "        test.assert_equals(square_sum([-1,-2]), 5)\n",
                "        test.assert_equals(square_sum([-1,0,1]), 2)"
            ],
            "outputs": [],
            "metadata": {}
        },
        {
            "cell_type": "markdown",
            "source": [
                "# My Solution\n",
                "\n",
                "## My Understanding"
            ],
            "metadata": {}
        },
        {
            "cell_type": "markdown",
            "source": [
                "I will be given a list of numbers. I need to square each one. The total of the new squared numbers is also needed.<br>\n",
                "I know numpy has a squared function. Doubt I can import that library.<br>There should be a simple mathmatical way I\n",
                "can get the square of a number. I will need a empty list to put the new squared numbers in.<br>I believe I can use the \n",
                "`sum()` function to get the total of the new list. \n",
                "\n",
                "### First Attempt\n",
                "- [] Create an empty list\n",
                "- [] Add the given number to the list\n",
                "- [] Square each given number\n",
                "- [] Get the total of the new list"
            ],
            "metadata": {}
        },
        {
            "cell_type": "code",
            "execution_count": 1,
            "source": [
                "def square_sum(numbers):\n",
                "    new_list = []\n",
                "    for num in numbers:\n",
                "        new_list.append(num)\n",
                "    return new_list"
            ],
            "outputs": [],
            "metadata": {}
        },
        {
            "cell_type": "code",
            "execution_count": 2,
            "source": [
                "square_sum([1,2])"
            ],
            "outputs": [
                {
                    "output_type": "execute_result",
                    "data": {
                        "text/plain": [
                            "[1, 2]"
                        ]
                    },
                    "metadata": {},
                    "execution_count": 2
                }
            ],
            "metadata": {}
        },
        {
            "cell_type": "code",
            "execution_count": 3,
            "source": [
                "square_sum([0, 3, 4, 5])"
            ],
            "outputs": [
                {
                    "output_type": "execute_result",
                    "data": {
                        "text/plain": [
                            "[0, 3, 4, 5]"
                        ]
                    },
                    "metadata": {},
                    "execution_count": 3
                }
            ],
            "metadata": {}
        },
        {
            "cell_type": "code",
            "execution_count": 4,
            "source": [
                "square_sum([])"
            ],
            "outputs": [
                {
                    "output_type": "execute_result",
                    "data": {
                        "text/plain": [
                            "[]"
                        ]
                    },
                    "metadata": {},
                    "execution_count": 4
                }
            ],
            "metadata": {}
        },
        {
            "cell_type": "code",
            "execution_count": 5,
            "source": [
                "square_sum([-1,-2])"
            ],
            "outputs": [
                {
                    "output_type": "execute_result",
                    "data": {
                        "text/plain": [
                            "[-1, -2]"
                        ]
                    },
                    "metadata": {},
                    "execution_count": 5
                }
            ],
            "metadata": {}
        },
        {
            "cell_type": "code",
            "execution_count": 6,
            "source": [
                "square_sum([-1,0,1])"
            ],
            "outputs": [
                {
                    "output_type": "execute_result",
                    "data": {
                        "text/plain": [
                            "[-1, 0, 1]"
                        ]
                    },
                    "metadata": {},
                    "execution_count": 6
                }
            ],
            "metadata": {}
        },
        {
            "cell_type": "markdown",
            "source": [
                "# Other Solutions"
            ],
            "metadata": {}
        }
    ],
    "metadata": {
        "orig_nbformat": 4,
        "language_info": {
            "name": "python",
            "version": "3.9.6",
            "mimetype": "text/x-python",
            "codemirror_mode": {
                "name": "ipython",
                "version": 3
            },
            "pygments_lexer": "ipython3",
            "nbconvert_exporter": "python",
            "file_extension": ".py"
        },
        "kernelspec": {
            "name": "python3",
            "display_name": "Python 3.9.6 64-bit"
        },
        "interpreter": {
            "hash": "7d6993cb2f9ce9a59d5d7380609d9cb5192a9dedd2735a011418ad9e827eb538"
        }
    },
    "nbformat": 4,
    "nbformat_minor": 2
}