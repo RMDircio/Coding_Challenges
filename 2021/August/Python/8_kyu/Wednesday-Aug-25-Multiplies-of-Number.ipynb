{
    "cells": [
        {
            "cell_type": "markdown",
            "source": [
                "# [Codewars](https://www.codewars.com/)\n",
                "- 8 Kyu\n",
                "- Python\n",
                "- Fundamentals"
            ],
            "metadata": {}
        },
        {
            "cell_type": "markdown",
            "source": [
                "# Find Multiples of a Number\n",
                "\n",
                ">In this simple exercise, you will build a program that takes a value, `integer` , and returns a list of its multiples up to another value, `limit` . <br>\n",
                ">\n",
                ">If `limit` is a multiple of `integer`, it should be included as well. There will only ever be positive integers passed into the function, not consisting of 0. The limit will always be higher than the base.\n",
                ">\n",
                ">For example, if the parameters passed are `(2, 6)`, the function should return `[2, 4, 6]` as 2, 4, and 6 are the multiples of 2 up to 6.\n",
                ">\n",
                ">If you can, try writing it in only one line of code.\n",
                ">\n"
            ],
            "metadata": {}
        },
        {
            "cell_type": "code",
            "execution_count": null,
            "source": [
                "# Tests\n",
                "\n",
                "import codewars_test as test\n",
                "from solution import find_multiples\n",
                "\n",
                "@test.describe(\"Fixed Tests\")\n",
                "def fixed_tests():\n",
                "    @test.it('Basic Test Cases')\n",
                "    def basic_test_cases():\n",
                "        test.assert_equals(find_multiples(5, 25), [5, 10, 15, 20, 25])\n",
                "        test.assert_equals(find_multiples(1, 2), [1, 2])"
            ],
            "outputs": [],
            "metadata": {}
        },
        {
            "cell_type": "markdown",
            "source": [
                "# My Solution\n",
                "\n",
                "## My Understanding\n",
                "I have two values, first is my starting point and the second is my ending point.<br>I take the starting point and I multiply it by 1, then increase the multiplcation by 1.<br>So it would look like `value`*1, `value`*2, `value`*3...so on.<br>I stop when the multiplied value equals the limit that was given.<br>I also need to include that limit if it is multiple of the `value`\n",
                "\n",
                "Understanding how multiplies or multipling actully works was really helpful here:<br><br>\n",
                "![](/home/regina/Documents/GitHub_Repos/Coding_Challenges/2021/August/Python/assets/multiplies.png)\n",
                "\n",
                "First round<br>\n",
                "   - [x] see if I can take the start and times it by 2<br>\n",
                "   - [x] stop when I reach the limit<br>\n",
                "   - [x] I need an empty list to store the multiples<br>\n"
            ],
            "metadata": {}
        },
        {
            "cell_type": "code",
            "execution_count": 33,
            "source": [
                "def find_multiples(integer, limit):\n",
                "    # list with the starting value\n",
                "    multiplies = [integer]\n",
                "  \n",
                "    for e in multiplies: \n",
                "        # if the integer is not greater than the limit\n",
                "        if e < limit:\n",
                "            # multiply by 2\n",
                "            next_multiple = (multiplies[-1] + integer)\n",
                "        \n",
                "            # if the next value is less than or equal to limit\n",
                "            if next_multiple <= limit:\n",
                "                # append new value to list\n",
                "                multiplies.append(next_multiple)\n",
                "\n",
                "    # return the new list\n",
                "    return multiplies"
            ],
            "outputs": [],
            "metadata": {}
        },
        {
            "cell_type": "code",
            "execution_count": 34,
            "source": [
                "find_multiples(1, 5)"
            ],
            "outputs": [
                {
                    "output_type": "execute_result",
                    "data": {
                        "text/plain": [
                            "[1, 2, 3, 4, 5]"
                        ]
                    },
                    "metadata": {},
                    "execution_count": 34
                }
            ],
            "metadata": {}
        },
        {
            "cell_type": "code",
            "execution_count": 35,
            "source": [
                "find_multiples(5, 25)"
            ],
            "outputs": [
                {
                    "output_type": "execute_result",
                    "data": {
                        "text/plain": [
                            "[5, 10, 15, 20, 25]"
                        ]
                    },
                    "metadata": {},
                    "execution_count": 35
                }
            ],
            "metadata": {}
        },
        {
            "cell_type": "code",
            "execution_count": 36,
            "source": [
                "find_multiples(5,10)"
            ],
            "outputs": [
                {
                    "output_type": "execute_result",
                    "data": {
                        "text/plain": [
                            "[5, 10]"
                        ]
                    },
                    "metadata": {},
                    "execution_count": 36
                }
            ],
            "metadata": {}
        },
        {
            "cell_type": "code",
            "execution_count": 37,
            "source": [
                "find_multiples(5,7)"
            ],
            "outputs": [
                {
                    "output_type": "execute_result",
                    "data": {
                        "text/plain": [
                            "[5]"
                        ]
                    },
                    "metadata": {},
                    "execution_count": 37
                }
            ],
            "metadata": {}
        },
        {
            "cell_type": "markdown",
            "source": [
                "# Other Solutions"
            ],
            "metadata": {}
        },
        {
            "cell_type": "code",
            "execution_count": null,
            "source": [
                "def find_multiples(integer, limit):\n",
                "    return list(range(integer, limit+1, integer))"
            ],
            "outputs": [],
            "metadata": {}
        },
        {
            "cell_type": "code",
            "execution_count": null,
            "source": [
                "def find_multiples(integer, limit):\n",
                "    return range(integer,limit+1,integer)"
            ],
            "outputs": [],
            "metadata": {}
        },
        {
            "cell_type": "code",
            "execution_count": null,
            "source": [
                "def find_multiples(integer, limit):\n",
                "    arr = []\n",
                "    count = integer\n",
                "    while count <= limit:\n",
                "        arr.append(count)\n",
                "        count += integer\n",
                "    return arr"
            ],
            "outputs": [],
            "metadata": {}
        }
    ],
    "metadata": {
        "orig_nbformat": 4,
        "language_info": {
            "name": "python",
            "version": "3.9.6",
            "mimetype": "text/x-python",
            "codemirror_mode": {
                "name": "ipython",
                "version": 3
            },
            "pygments_lexer": "ipython3",
            "nbconvert_exporter": "python",
            "file_extension": ".py"
        },
        "kernelspec": {
            "name": "python3",
            "display_name": "Python 3.9.6 64-bit"
        },
        "interpreter": {
            "hash": "7d6993cb2f9ce9a59d5d7380609d9cb5192a9dedd2735a011418ad9e827eb538"
        }
    },
    "nbformat": 4,
    "nbformat_minor": 2
}