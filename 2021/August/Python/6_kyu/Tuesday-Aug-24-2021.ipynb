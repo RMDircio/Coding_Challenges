{
    "cells": [
        {
            "cell_type": "markdown",
            "source": [
                "# [Codewars](https://www.codewars.com/)\n",
                "- 6 Kyu\n",
                "- Python\n",
                "- Fundamentals\n",
                "    - Arrays\n",
                "    - Data Types\n"
            ],
            "metadata": {}
        },
        {
            "cell_type": "markdown",
            "source": [
                "## Array.diff\n",
                "Instructuions\n",
                "\n",
                ">Your goal in this kata is to implement a difference function, which subtracts one list from another and returns the result.\n",
                ">\n",
                ">It should remove all values from list a, which are present in list b keeping their order.\n",
                ">\n",
                "![](/home/regina/Documents/GitHub_Repos/Coding_Challenges/2021/August/Python/assets/arry_diff1.png)\n",
                ">If a value is present in b, all of its occurrences must be removed from the other:\n",
                ">\n",
                "![](/home/regina/Documents/GitHub_Repos/Coding_Challenges/2021/August/Python/assets/arry_diff2.png)\n",
                "\n"
            ],
            "metadata": {}
        },
        {
            "cell_type": "code",
            "execution_count": null,
            "source": [
                "# Tests\n",
                "import codewars_test as test\n",
                "from solution import array_diff\n",
                "\n",
                "@test.describe(\"Fixed Tests\")\n",
                "def fixed_tests():\n",
                "    @test.it('Basic Test Cases')\n",
                "    def basic_test_cases():\n",
                "        test.assert_equals(array_diff([1,2], [1]), [2], \"a was [1,2], b was [1], expected [2]\")\n",
                "        test.assert_equals(array_diff([1,2,2], [1]), [2,2], \"a was [1,2,2], b was [1], expected [2,2]\")\n",
                "        test.assert_equals(array_diff([1,2,2], [2]), [1], \"a was [1,2,2], b was [2], expected [1]\")\n",
                "        test.assert_equals(array_diff([1,2,2], []), [1,2,2], \"a was [1,2,2], b was [], expected [1,2,2]\")\n",
                "        test.assert_equals(array_diff([], [1,2]), [], \"a was [], b was [1,2], expected []\")\n",
                "        test.assert_equals(array_diff([1,2,3], [1, 2]), [3], \"a was [1,2,3], b was [1, 2], expected [3]\")"
            ],
            "outputs": [],
            "metadata": {}
        },
        {
            "cell_type": "markdown",
            "source": [
                "\n",
                "# My Solution"
            ],
            "metadata": {}
        },
        {
            "cell_type": "markdown",
            "source": [
                "## My understanding\n",
                "\n",
                "Given two list (a and b), I need to find the difference (not mathmatical) of the two. More like find the differenent shape vs find the difference (-) in these numbers.\n",
                "\n",
                "I also need remove all the matches from `a[list]` that are in `b[list]`, while keeping the order.\n",
                "\n",
                "I will first just get a set of `a[list]` and `b[list]`\n",
                "- this can not be done since I can not use `set()` with a list\n",
                "\n",
                "Using an if statement to compare the two list will be helpful\n",
                "    - I could use an empty list and append the difference\n",
                "    - then return the new list\n",
                "\n",
                "Had to walk away - lots of distractions and EOD"
            ],
            "metadata": {}
        },
        {
            "cell_type": "code",
            "execution_count": 28,
            "source": [
                "def array_diff(a, b):\n",
                "    difference = []\n",
                "    for x[i] in a:\n",
                "        if x[i] is not b:\n",
                "            print(x[i])\n",
                "            difference.append(a)\n",
                "    return difference\n",
                "\n",
                " "
            ],
            "outputs": [],
            "metadata": {}
        },
        {
            "cell_type": "code",
            "execution_count": 29,
            "source": [
                "array_diff(([1,2], [1]), [2])"
            ],
            "outputs": [
                {
                    "output_type": "error",
                    "ename": "NameError",
                    "evalue": "name 'x' is not defined",
                    "traceback": [
                        "\u001b[0;31m---------------------------------------------------------------------------\u001b[0m",
                        "\u001b[0;31mNameError\u001b[0m                                 Traceback (most recent call last)",
                        "\u001b[0;32m<ipython-input-29-68815cbfd087>\u001b[0m in \u001b[0;36m<module>\u001b[0;34m\u001b[0m\n\u001b[0;32m----> 1\u001b[0;31m \u001b[0marray_diff\u001b[0m\u001b[0;34m(\u001b[0m\u001b[0;34m(\u001b[0m\u001b[0;34m[\u001b[0m\u001b[0;36m1\u001b[0m\u001b[0;34m,\u001b[0m\u001b[0;36m2\u001b[0m\u001b[0;34m]\u001b[0m\u001b[0;34m,\u001b[0m \u001b[0;34m[\u001b[0m\u001b[0;36m1\u001b[0m\u001b[0;34m]\u001b[0m\u001b[0;34m)\u001b[0m\u001b[0;34m,\u001b[0m \u001b[0;34m[\u001b[0m\u001b[0;36m2\u001b[0m\u001b[0;34m]\u001b[0m\u001b[0;34m)\u001b[0m\u001b[0;34m\u001b[0m\u001b[0;34m\u001b[0m\u001b[0m\n\u001b[0m",
                        "\u001b[0;32m<ipython-input-28-d42398424807>\u001b[0m in \u001b[0;36marray_diff\u001b[0;34m(a, b)\u001b[0m\n\u001b[1;32m      1\u001b[0m \u001b[0;32mdef\u001b[0m \u001b[0marray_diff\u001b[0m\u001b[0;34m(\u001b[0m\u001b[0ma\u001b[0m\u001b[0;34m,\u001b[0m \u001b[0mb\u001b[0m\u001b[0;34m)\u001b[0m\u001b[0;34m:\u001b[0m\u001b[0;34m\u001b[0m\u001b[0;34m\u001b[0m\u001b[0m\n\u001b[1;32m      2\u001b[0m     \u001b[0mdifference\u001b[0m \u001b[0;34m=\u001b[0m \u001b[0;34m[\u001b[0m\u001b[0;34m]\u001b[0m\u001b[0;34m\u001b[0m\u001b[0;34m\u001b[0m\u001b[0m\n\u001b[0;32m----> 3\u001b[0;31m     \u001b[0;32mfor\u001b[0m \u001b[0mx\u001b[0m\u001b[0;34m[\u001b[0m\u001b[0mi\u001b[0m\u001b[0;34m]\u001b[0m \u001b[0;32min\u001b[0m \u001b[0ma\u001b[0m\u001b[0;34m:\u001b[0m\u001b[0;34m\u001b[0m\u001b[0;34m\u001b[0m\u001b[0m\n\u001b[0m\u001b[1;32m      4\u001b[0m         \u001b[0;32mif\u001b[0m \u001b[0mx\u001b[0m\u001b[0;34m[\u001b[0m\u001b[0mi\u001b[0m\u001b[0;34m]\u001b[0m \u001b[0;32mis\u001b[0m \u001b[0;32mnot\u001b[0m \u001b[0mb\u001b[0m\u001b[0;34m:\u001b[0m\u001b[0;34m\u001b[0m\u001b[0;34m\u001b[0m\u001b[0m\n\u001b[1;32m      5\u001b[0m             \u001b[0mprint\u001b[0m\u001b[0;34m(\u001b[0m\u001b[0mx\u001b[0m\u001b[0;34m[\u001b[0m\u001b[0mi\u001b[0m\u001b[0;34m]\u001b[0m\u001b[0;34m)\u001b[0m\u001b[0;34m\u001b[0m\u001b[0;34m\u001b[0m\u001b[0m\n",
                        "\u001b[0;31mNameError\u001b[0m: name 'x' is not defined"
                    ]
                }
            ],
            "metadata": {}
        },
        {
            "cell_type": "code",
            "execution_count": null,
            "source": [],
            "outputs": [],
            "metadata": {}
        }
    ],
    "metadata": {
        "orig_nbformat": 4,
        "language_info": {
            "name": "python",
            "version": "3.9.6",
            "mimetype": "text/x-python",
            "codemirror_mode": {
                "name": "ipython",
                "version": 3
            },
            "pygments_lexer": "ipython3",
            "nbconvert_exporter": "python",
            "file_extension": ".py"
        },
        "kernelspec": {
            "name": "python3",
            "display_name": "Python 3.9.6 64-bit"
        },
        "interpreter": {
            "hash": "7d6993cb2f9ce9a59d5d7380609d9cb5192a9dedd2735a011418ad9e827eb538"
        }
    },
    "nbformat": 4,
    "nbformat_minor": 2
}